{
 "cells": [
  {
   "cell_type": "markdown",
   "metadata": {},
   "source": [
    "# Project: Identify Customer Segments\n",
    "\n",
    "In this project, you will apply unsupervised learning techniques to identify segments of the population that form the core customer base for a mail-order sales company in Germany. These segments can then be used to direct marketing campaigns towards audiences that will have the highest expected rate of returns. The data that you will use has been provided by our partners at Bertelsmann Arvato Analytics, and represents a real-life data science task.\n",
    "\n",
    "This notebook will help you complete this task by providing a framework within which you will perform your analysis steps. In each step of the project, you will see some text describing the subtask that you will perform, followed by one or more code cells for you to complete your work. **Feel free to add additional code and markdown cells as you go along so that you can explore everything in precise chunks.** The code cells provided in the base template will outline only the major tasks, and will usually not be enough to cover all of the minor tasks that comprise it.\n",
    "\n",
    "It should be noted that while there will be precise guidelines on how you should handle certain tasks in the project, there will also be places where an exact specification is not provided. **There will be times in the project where you will need to make and justify your own decisions on how to treat the data.** These are places where there may not be only one way to handle the data. In real-life tasks, there may be many valid ways to approach an analysis task. One of the most important things you can do is clearly document your approach so that other scientists can understand the decisions you've made.\n",
    "\n",
    "At the end of most sections, there will be a Markdown cell labeled **Discussion**. In these cells, you will report your findings for the completed section, as well as document the decisions that you made in your approach to each subtask. **Your project will be evaluated not just on the code used to complete the tasks outlined, but also your communication about your observations and conclusions at each stage.**"
   ]
  },
  {
   "cell_type": "code",
   "execution_count": 1,
   "metadata": {},
   "outputs": [
    {
     "data": {
      "text/plain": [
       "'\\nImport note: The classroom currently uses sklearn version 0.19.\\nIf you need to use an imputer, it is available in sklearn.preprocessing.Imputer,\\ninstead of sklearn.impute as in newer versions of sklearn.\\n'"
      ]
     },
     "execution_count": 1,
     "metadata": {},
     "output_type": "execute_result"
    }
   ],
   "source": [
    "# import libraries here; add more as necessary\n",
    "import numpy as np\n",
    "import pandas as pd\n",
    "import matplotlib.pyplot as plt\n",
    "import seaborn as sns\n",
    "from sklearn.preprocessing import StandardScaler, Imputer\n",
    "from sklearn.decomposition import PCA\n",
    "from sklearn.cluster import KMeans\n",
    "\n",
    "# magic word for producing visualizations in notebook\n",
    "%matplotlib inline\n",
    "\n",
    "'''\n",
    "Import note: The classroom currently uses sklearn version 0.19.\n",
    "If you need to use an imputer, it is available in sklearn.preprocessing.Imputer,\n",
    "instead of sklearn.impute as in newer versions of sklearn.\n",
    "'''"
   ]
  },
  {
   "cell_type": "markdown",
   "metadata": {},
   "source": [
    "### Step 0: Load the Data\n",
    "\n",
    "There are four files associated with this project (not including this one):\n",
    "\n",
    "- `Udacity_AZDIAS_Subset.csv`: Demographics data for the general population of Germany; 891211 persons (rows) x 85 features (columns).\n",
    "- `Udacity_CUSTOMERS_Subset.csv`: Demographics data for customers of a mail-order company; 191652 persons (rows) x 85 features (columns).\n",
    "- `Data_Dictionary.md`: Detailed information file about the features in the provided datasets.\n",
    "- `AZDIAS_Feature_Summary.csv`: Summary of feature attributes for demographics data; 85 features (rows) x 4 columns\n",
    "\n",
    "Each row of the demographics files represents a single person, but also includes information outside of individuals, including information about their household, building, and neighborhood. You will use this information to cluster the general population into groups with similar demographic properties. Then, you will see how the people in the customers dataset fit into those created clusters. The hope here is that certain clusters are over-represented in the customers data, as compared to the general population; those over-represented clusters will be assumed to be part of the core userbase. This information can then be used for further applications, such as targeting for a marketing campaign.\n",
    "\n",
    "To start off with, load in the demographics data for the general population into a pandas DataFrame, and do the same for the feature attributes summary. Note for all of the `.csv` data files in this project: they're semicolon (`;`) delimited, so you'll need an additional argument in your [`read_csv()`](https://pandas.pydata.org/pandas-docs/stable/generated/pandas.read_csv.html) call to read in the data properly. Also, considering the size of the main dataset, it may take some time for it to load completely.\n",
    "\n",
    "Once the dataset is loaded, it's recommended that you take a little bit of time just browsing the general structure of the dataset and feature summary file. You'll be getting deep into the innards of the cleaning in the first major step of the project, so gaining some general familiarity can help you get your bearings."
   ]
  },
  {
   "cell_type": "code",
   "execution_count": 2,
   "metadata": {},
   "outputs": [],
   "source": [
    "# Load in the general demographics data.\n",
    "azdias = pd.read_csv('Udacity_AZDIAS_Subset.csv',sep=';')\n",
    "\n",
    "# Load in the feature summary file.\n",
    "feat_info = pd.read_csv('AZDIAS_Feature_Summary.csv',sep=';')"
   ]
  },
  {
   "cell_type": "code",
   "execution_count": 3,
   "metadata": {},
   "outputs": [
    {
     "data": {
      "text/html": [
       "<div>\n",
       "<style scoped>\n",
       "    .dataframe tbody tr th:only-of-type {\n",
       "        vertical-align: middle;\n",
       "    }\n",
       "\n",
       "    .dataframe tbody tr th {\n",
       "        vertical-align: top;\n",
       "    }\n",
       "\n",
       "    .dataframe thead th {\n",
       "        text-align: right;\n",
       "    }\n",
       "</style>\n",
       "<table border=\"1\" class=\"dataframe\">\n",
       "  <thead>\n",
       "    <tr style=\"text-align: right;\">\n",
       "      <th></th>\n",
       "      <th>AGER_TYP</th>\n",
       "      <th>ALTERSKATEGORIE_GROB</th>\n",
       "      <th>ANREDE_KZ</th>\n",
       "      <th>CJT_GESAMTTYP</th>\n",
       "      <th>FINANZ_MINIMALIST</th>\n",
       "      <th>FINANZ_SPARER</th>\n",
       "      <th>FINANZ_VORSORGER</th>\n",
       "      <th>FINANZ_ANLEGER</th>\n",
       "      <th>FINANZ_UNAUFFAELLIGER</th>\n",
       "      <th>FINANZ_HAUSBAUER</th>\n",
       "      <th>...</th>\n",
       "      <th>PLZ8_ANTG1</th>\n",
       "      <th>PLZ8_ANTG2</th>\n",
       "      <th>PLZ8_ANTG3</th>\n",
       "      <th>PLZ8_ANTG4</th>\n",
       "      <th>PLZ8_BAUMAX</th>\n",
       "      <th>PLZ8_HHZ</th>\n",
       "      <th>PLZ8_GBZ</th>\n",
       "      <th>ARBEIT</th>\n",
       "      <th>ORTSGR_KLS9</th>\n",
       "      <th>RELAT_AB</th>\n",
       "    </tr>\n",
       "  </thead>\n",
       "  <tbody>\n",
       "    <tr>\n",
       "      <th>0</th>\n",
       "      <td>-1</td>\n",
       "      <td>2</td>\n",
       "      <td>1</td>\n",
       "      <td>2.0</td>\n",
       "      <td>3</td>\n",
       "      <td>4</td>\n",
       "      <td>3</td>\n",
       "      <td>5</td>\n",
       "      <td>5</td>\n",
       "      <td>3</td>\n",
       "      <td>...</td>\n",
       "      <td>NaN</td>\n",
       "      <td>NaN</td>\n",
       "      <td>NaN</td>\n",
       "      <td>NaN</td>\n",
       "      <td>NaN</td>\n",
       "      <td>NaN</td>\n",
       "      <td>NaN</td>\n",
       "      <td>NaN</td>\n",
       "      <td>NaN</td>\n",
       "      <td>NaN</td>\n",
       "    </tr>\n",
       "    <tr>\n",
       "      <th>1</th>\n",
       "      <td>-1</td>\n",
       "      <td>1</td>\n",
       "      <td>2</td>\n",
       "      <td>5.0</td>\n",
       "      <td>1</td>\n",
       "      <td>5</td>\n",
       "      <td>2</td>\n",
       "      <td>5</td>\n",
       "      <td>4</td>\n",
       "      <td>5</td>\n",
       "      <td>...</td>\n",
       "      <td>2.0</td>\n",
       "      <td>3.0</td>\n",
       "      <td>2.0</td>\n",
       "      <td>1.0</td>\n",
       "      <td>1.0</td>\n",
       "      <td>5.0</td>\n",
       "      <td>4.0</td>\n",
       "      <td>3.0</td>\n",
       "      <td>5.0</td>\n",
       "      <td>4.0</td>\n",
       "    </tr>\n",
       "    <tr>\n",
       "      <th>2</th>\n",
       "      <td>-1</td>\n",
       "      <td>3</td>\n",
       "      <td>2</td>\n",
       "      <td>3.0</td>\n",
       "      <td>1</td>\n",
       "      <td>4</td>\n",
       "      <td>1</td>\n",
       "      <td>2</td>\n",
       "      <td>3</td>\n",
       "      <td>5</td>\n",
       "      <td>...</td>\n",
       "      <td>3.0</td>\n",
       "      <td>3.0</td>\n",
       "      <td>1.0</td>\n",
       "      <td>0.0</td>\n",
       "      <td>1.0</td>\n",
       "      <td>4.0</td>\n",
       "      <td>4.0</td>\n",
       "      <td>3.0</td>\n",
       "      <td>5.0</td>\n",
       "      <td>2.0</td>\n",
       "    </tr>\n",
       "    <tr>\n",
       "      <th>3</th>\n",
       "      <td>2</td>\n",
       "      <td>4</td>\n",
       "      <td>2</td>\n",
       "      <td>2.0</td>\n",
       "      <td>4</td>\n",
       "      <td>2</td>\n",
       "      <td>5</td>\n",
       "      <td>2</td>\n",
       "      <td>1</td>\n",
       "      <td>2</td>\n",
       "      <td>...</td>\n",
       "      <td>2.0</td>\n",
       "      <td>2.0</td>\n",
       "      <td>2.0</td>\n",
       "      <td>0.0</td>\n",
       "      <td>1.0</td>\n",
       "      <td>3.0</td>\n",
       "      <td>4.0</td>\n",
       "      <td>2.0</td>\n",
       "      <td>3.0</td>\n",
       "      <td>3.0</td>\n",
       "    </tr>\n",
       "    <tr>\n",
       "      <th>4</th>\n",
       "      <td>-1</td>\n",
       "      <td>3</td>\n",
       "      <td>1</td>\n",
       "      <td>5.0</td>\n",
       "      <td>4</td>\n",
       "      <td>3</td>\n",
       "      <td>4</td>\n",
       "      <td>1</td>\n",
       "      <td>3</td>\n",
       "      <td>2</td>\n",
       "      <td>...</td>\n",
       "      <td>2.0</td>\n",
       "      <td>4.0</td>\n",
       "      <td>2.0</td>\n",
       "      <td>1.0</td>\n",
       "      <td>2.0</td>\n",
       "      <td>3.0</td>\n",
       "      <td>3.0</td>\n",
       "      <td>4.0</td>\n",
       "      <td>6.0</td>\n",
       "      <td>5.0</td>\n",
       "    </tr>\n",
       "  </tbody>\n",
       "</table>\n",
       "<p>5 rows × 85 columns</p>\n",
       "</div>"
      ],
      "text/plain": [
       "   AGER_TYP  ALTERSKATEGORIE_GROB  ANREDE_KZ  CJT_GESAMTTYP  \\\n",
       "0        -1                     2          1            2.0   \n",
       "1        -1                     1          2            5.0   \n",
       "2        -1                     3          2            3.0   \n",
       "3         2                     4          2            2.0   \n",
       "4        -1                     3          1            5.0   \n",
       "\n",
       "   FINANZ_MINIMALIST  FINANZ_SPARER  FINANZ_VORSORGER  FINANZ_ANLEGER  \\\n",
       "0                  3              4                 3               5   \n",
       "1                  1              5                 2               5   \n",
       "2                  1              4                 1               2   \n",
       "3                  4              2                 5               2   \n",
       "4                  4              3                 4               1   \n",
       "\n",
       "   FINANZ_UNAUFFAELLIGER  FINANZ_HAUSBAUER    ...     PLZ8_ANTG1  PLZ8_ANTG2  \\\n",
       "0                      5                 3    ...            NaN         NaN   \n",
       "1                      4                 5    ...            2.0         3.0   \n",
       "2                      3                 5    ...            3.0         3.0   \n",
       "3                      1                 2    ...            2.0         2.0   \n",
       "4                      3                 2    ...            2.0         4.0   \n",
       "\n",
       "   PLZ8_ANTG3  PLZ8_ANTG4  PLZ8_BAUMAX  PLZ8_HHZ  PLZ8_GBZ  ARBEIT  \\\n",
       "0         NaN         NaN          NaN       NaN       NaN     NaN   \n",
       "1         2.0         1.0          1.0       5.0       4.0     3.0   \n",
       "2         1.0         0.0          1.0       4.0       4.0     3.0   \n",
       "3         2.0         0.0          1.0       3.0       4.0     2.0   \n",
       "4         2.0         1.0          2.0       3.0       3.0     4.0   \n",
       "\n",
       "   ORTSGR_KLS9  RELAT_AB  \n",
       "0          NaN       NaN  \n",
       "1          5.0       4.0  \n",
       "2          5.0       2.0  \n",
       "3          3.0       3.0  \n",
       "4          6.0       5.0  \n",
       "\n",
       "[5 rows x 85 columns]"
      ]
     },
     "execution_count": 3,
     "metadata": {},
     "output_type": "execute_result"
    }
   ],
   "source": [
    "# Check the structure of the data after it's loaded (e.g. print the number of\n",
    "# rows and columns, print the first few rows).\n",
    "azdias.head()"
   ]
  },
  {
   "cell_type": "code",
   "execution_count": 4,
   "metadata": {},
   "outputs": [
    {
     "data": {
      "text/plain": [
       "(891221, 85)"
      ]
     },
     "execution_count": 4,
     "metadata": {},
     "output_type": "execute_result"
    }
   ],
   "source": [
    "azdias.shape"
   ]
  },
  {
   "cell_type": "code",
   "execution_count": 5,
   "metadata": {},
   "outputs": [
    {
     "name": "stdout",
     "output_type": "stream",
     "text": [
      "Total number of missing values after conversion is 4896838\n"
     ]
    }
   ],
   "source": [
    "print('Total number of missing values after conversion is {}'.format(azdias.isnull().sum().sum()))"
   ]
  },
  {
   "cell_type": "code",
   "execution_count": 6,
   "metadata": {},
   "outputs": [
    {
     "data": {
      "text/html": [
       "<div>\n",
       "<style scoped>\n",
       "    .dataframe tbody tr th:only-of-type {\n",
       "        vertical-align: middle;\n",
       "    }\n",
       "\n",
       "    .dataframe tbody tr th {\n",
       "        vertical-align: top;\n",
       "    }\n",
       "\n",
       "    .dataframe thead th {\n",
       "        text-align: right;\n",
       "    }\n",
       "</style>\n",
       "<table border=\"1\" class=\"dataframe\">\n",
       "  <thead>\n",
       "    <tr style=\"text-align: right;\">\n",
       "      <th></th>\n",
       "      <th>attribute</th>\n",
       "      <th>information_level</th>\n",
       "      <th>type</th>\n",
       "      <th>missing_or_unknown</th>\n",
       "    </tr>\n",
       "  </thead>\n",
       "  <tbody>\n",
       "    <tr>\n",
       "      <th>0</th>\n",
       "      <td>AGER_TYP</td>\n",
       "      <td>person</td>\n",
       "      <td>categorical</td>\n",
       "      <td>[-1,0]</td>\n",
       "    </tr>\n",
       "    <tr>\n",
       "      <th>1</th>\n",
       "      <td>ALTERSKATEGORIE_GROB</td>\n",
       "      <td>person</td>\n",
       "      <td>ordinal</td>\n",
       "      <td>[-1,0,9]</td>\n",
       "    </tr>\n",
       "    <tr>\n",
       "      <th>2</th>\n",
       "      <td>ANREDE_KZ</td>\n",
       "      <td>person</td>\n",
       "      <td>categorical</td>\n",
       "      <td>[-1,0]</td>\n",
       "    </tr>\n",
       "    <tr>\n",
       "      <th>3</th>\n",
       "      <td>CJT_GESAMTTYP</td>\n",
       "      <td>person</td>\n",
       "      <td>categorical</td>\n",
       "      <td>[0]</td>\n",
       "    </tr>\n",
       "    <tr>\n",
       "      <th>4</th>\n",
       "      <td>FINANZ_MINIMALIST</td>\n",
       "      <td>person</td>\n",
       "      <td>ordinal</td>\n",
       "      <td>[-1]</td>\n",
       "    </tr>\n",
       "    <tr>\n",
       "      <th>5</th>\n",
       "      <td>FINANZ_SPARER</td>\n",
       "      <td>person</td>\n",
       "      <td>ordinal</td>\n",
       "      <td>[-1]</td>\n",
       "    </tr>\n",
       "    <tr>\n",
       "      <th>6</th>\n",
       "      <td>FINANZ_VORSORGER</td>\n",
       "      <td>person</td>\n",
       "      <td>ordinal</td>\n",
       "      <td>[-1]</td>\n",
       "    </tr>\n",
       "    <tr>\n",
       "      <th>7</th>\n",
       "      <td>FINANZ_ANLEGER</td>\n",
       "      <td>person</td>\n",
       "      <td>ordinal</td>\n",
       "      <td>[-1]</td>\n",
       "    </tr>\n",
       "    <tr>\n",
       "      <th>8</th>\n",
       "      <td>FINANZ_UNAUFFAELLIGER</td>\n",
       "      <td>person</td>\n",
       "      <td>ordinal</td>\n",
       "      <td>[-1]</td>\n",
       "    </tr>\n",
       "    <tr>\n",
       "      <th>9</th>\n",
       "      <td>FINANZ_HAUSBAUER</td>\n",
       "      <td>person</td>\n",
       "      <td>ordinal</td>\n",
       "      <td>[-1]</td>\n",
       "    </tr>\n",
       "    <tr>\n",
       "      <th>10</th>\n",
       "      <td>FINANZTYP</td>\n",
       "      <td>person</td>\n",
       "      <td>categorical</td>\n",
       "      <td>[-1]</td>\n",
       "    </tr>\n",
       "    <tr>\n",
       "      <th>11</th>\n",
       "      <td>GEBURTSJAHR</td>\n",
       "      <td>person</td>\n",
       "      <td>numeric</td>\n",
       "      <td>[0]</td>\n",
       "    </tr>\n",
       "    <tr>\n",
       "      <th>12</th>\n",
       "      <td>GFK_URLAUBERTYP</td>\n",
       "      <td>person</td>\n",
       "      <td>categorical</td>\n",
       "      <td>[]</td>\n",
       "    </tr>\n",
       "    <tr>\n",
       "      <th>13</th>\n",
       "      <td>GREEN_AVANTGARDE</td>\n",
       "      <td>person</td>\n",
       "      <td>categorical</td>\n",
       "      <td>[]</td>\n",
       "    </tr>\n",
       "    <tr>\n",
       "      <th>14</th>\n",
       "      <td>HEALTH_TYP</td>\n",
       "      <td>person</td>\n",
       "      <td>ordinal</td>\n",
       "      <td>[-1,0]</td>\n",
       "    </tr>\n",
       "    <tr>\n",
       "      <th>15</th>\n",
       "      <td>LP_LEBENSPHASE_FEIN</td>\n",
       "      <td>person</td>\n",
       "      <td>mixed</td>\n",
       "      <td>[0]</td>\n",
       "    </tr>\n",
       "    <tr>\n",
       "      <th>16</th>\n",
       "      <td>LP_LEBENSPHASE_GROB</td>\n",
       "      <td>person</td>\n",
       "      <td>mixed</td>\n",
       "      <td>[0]</td>\n",
       "    </tr>\n",
       "    <tr>\n",
       "      <th>17</th>\n",
       "      <td>LP_FAMILIE_FEIN</td>\n",
       "      <td>person</td>\n",
       "      <td>categorical</td>\n",
       "      <td>[0]</td>\n",
       "    </tr>\n",
       "    <tr>\n",
       "      <th>18</th>\n",
       "      <td>LP_FAMILIE_GROB</td>\n",
       "      <td>person</td>\n",
       "      <td>categorical</td>\n",
       "      <td>[0]</td>\n",
       "    </tr>\n",
       "    <tr>\n",
       "      <th>19</th>\n",
       "      <td>LP_STATUS_FEIN</td>\n",
       "      <td>person</td>\n",
       "      <td>categorical</td>\n",
       "      <td>[0]</td>\n",
       "    </tr>\n",
       "    <tr>\n",
       "      <th>20</th>\n",
       "      <td>LP_STATUS_GROB</td>\n",
       "      <td>person</td>\n",
       "      <td>categorical</td>\n",
       "      <td>[0]</td>\n",
       "    </tr>\n",
       "    <tr>\n",
       "      <th>21</th>\n",
       "      <td>NATIONALITAET_KZ</td>\n",
       "      <td>person</td>\n",
       "      <td>categorical</td>\n",
       "      <td>[-1,0]</td>\n",
       "    </tr>\n",
       "    <tr>\n",
       "      <th>22</th>\n",
       "      <td>PRAEGENDE_JUGENDJAHRE</td>\n",
       "      <td>person</td>\n",
       "      <td>mixed</td>\n",
       "      <td>[-1,0]</td>\n",
       "    </tr>\n",
       "    <tr>\n",
       "      <th>23</th>\n",
       "      <td>RETOURTYP_BK_S</td>\n",
       "      <td>person</td>\n",
       "      <td>ordinal</td>\n",
       "      <td>[0]</td>\n",
       "    </tr>\n",
       "    <tr>\n",
       "      <th>24</th>\n",
       "      <td>SEMIO_SOZ</td>\n",
       "      <td>person</td>\n",
       "      <td>ordinal</td>\n",
       "      <td>[-1,9]</td>\n",
       "    </tr>\n",
       "    <tr>\n",
       "      <th>25</th>\n",
       "      <td>SEMIO_FAM</td>\n",
       "      <td>person</td>\n",
       "      <td>ordinal</td>\n",
       "      <td>[-1,9]</td>\n",
       "    </tr>\n",
       "    <tr>\n",
       "      <th>26</th>\n",
       "      <td>SEMIO_REL</td>\n",
       "      <td>person</td>\n",
       "      <td>ordinal</td>\n",
       "      <td>[-1,9]</td>\n",
       "    </tr>\n",
       "    <tr>\n",
       "      <th>27</th>\n",
       "      <td>SEMIO_MAT</td>\n",
       "      <td>person</td>\n",
       "      <td>ordinal</td>\n",
       "      <td>[-1,9]</td>\n",
       "    </tr>\n",
       "    <tr>\n",
       "      <th>28</th>\n",
       "      <td>SEMIO_VERT</td>\n",
       "      <td>person</td>\n",
       "      <td>ordinal</td>\n",
       "      <td>[-1,9]</td>\n",
       "    </tr>\n",
       "    <tr>\n",
       "      <th>29</th>\n",
       "      <td>SEMIO_LUST</td>\n",
       "      <td>person</td>\n",
       "      <td>ordinal</td>\n",
       "      <td>[-1,9]</td>\n",
       "    </tr>\n",
       "    <tr>\n",
       "      <th>...</th>\n",
       "      <td>...</td>\n",
       "      <td>...</td>\n",
       "      <td>...</td>\n",
       "      <td>...</td>\n",
       "    </tr>\n",
       "    <tr>\n",
       "      <th>55</th>\n",
       "      <td>OST_WEST_KZ</td>\n",
       "      <td>building</td>\n",
       "      <td>categorical</td>\n",
       "      <td>[-1]</td>\n",
       "    </tr>\n",
       "    <tr>\n",
       "      <th>56</th>\n",
       "      <td>WOHNLAGE</td>\n",
       "      <td>building</td>\n",
       "      <td>mixed</td>\n",
       "      <td>[-1]</td>\n",
       "    </tr>\n",
       "    <tr>\n",
       "      <th>57</th>\n",
       "      <td>CAMEO_DEUG_2015</td>\n",
       "      <td>microcell_rr4</td>\n",
       "      <td>categorical</td>\n",
       "      <td>[-1,X]</td>\n",
       "    </tr>\n",
       "    <tr>\n",
       "      <th>58</th>\n",
       "      <td>CAMEO_DEU_2015</td>\n",
       "      <td>microcell_rr4</td>\n",
       "      <td>categorical</td>\n",
       "      <td>[XX]</td>\n",
       "    </tr>\n",
       "    <tr>\n",
       "      <th>59</th>\n",
       "      <td>CAMEO_INTL_2015</td>\n",
       "      <td>microcell_rr4</td>\n",
       "      <td>mixed</td>\n",
       "      <td>[-1,XX]</td>\n",
       "    </tr>\n",
       "    <tr>\n",
       "      <th>60</th>\n",
       "      <td>KBA05_ANTG1</td>\n",
       "      <td>microcell_rr3</td>\n",
       "      <td>ordinal</td>\n",
       "      <td>[-1]</td>\n",
       "    </tr>\n",
       "    <tr>\n",
       "      <th>61</th>\n",
       "      <td>KBA05_ANTG2</td>\n",
       "      <td>microcell_rr3</td>\n",
       "      <td>ordinal</td>\n",
       "      <td>[-1]</td>\n",
       "    </tr>\n",
       "    <tr>\n",
       "      <th>62</th>\n",
       "      <td>KBA05_ANTG3</td>\n",
       "      <td>microcell_rr3</td>\n",
       "      <td>ordinal</td>\n",
       "      <td>[-1]</td>\n",
       "    </tr>\n",
       "    <tr>\n",
       "      <th>63</th>\n",
       "      <td>KBA05_ANTG4</td>\n",
       "      <td>microcell_rr3</td>\n",
       "      <td>ordinal</td>\n",
       "      <td>[-1]</td>\n",
       "    </tr>\n",
       "    <tr>\n",
       "      <th>64</th>\n",
       "      <td>KBA05_BAUMAX</td>\n",
       "      <td>microcell_rr3</td>\n",
       "      <td>mixed</td>\n",
       "      <td>[-1,0]</td>\n",
       "    </tr>\n",
       "    <tr>\n",
       "      <th>65</th>\n",
       "      <td>KBA05_GBZ</td>\n",
       "      <td>microcell_rr3</td>\n",
       "      <td>ordinal</td>\n",
       "      <td>[-1,0]</td>\n",
       "    </tr>\n",
       "    <tr>\n",
       "      <th>66</th>\n",
       "      <td>BALLRAUM</td>\n",
       "      <td>postcode</td>\n",
       "      <td>ordinal</td>\n",
       "      <td>[-1]</td>\n",
       "    </tr>\n",
       "    <tr>\n",
       "      <th>67</th>\n",
       "      <td>EWDICHTE</td>\n",
       "      <td>postcode</td>\n",
       "      <td>ordinal</td>\n",
       "      <td>[-1]</td>\n",
       "    </tr>\n",
       "    <tr>\n",
       "      <th>68</th>\n",
       "      <td>INNENSTADT</td>\n",
       "      <td>postcode</td>\n",
       "      <td>ordinal</td>\n",
       "      <td>[-1]</td>\n",
       "    </tr>\n",
       "    <tr>\n",
       "      <th>69</th>\n",
       "      <td>GEBAEUDETYP_RASTER</td>\n",
       "      <td>region_rr1</td>\n",
       "      <td>ordinal</td>\n",
       "      <td>[]</td>\n",
       "    </tr>\n",
       "    <tr>\n",
       "      <th>70</th>\n",
       "      <td>KKK</td>\n",
       "      <td>region_rr1</td>\n",
       "      <td>ordinal</td>\n",
       "      <td>[-1,0]</td>\n",
       "    </tr>\n",
       "    <tr>\n",
       "      <th>71</th>\n",
       "      <td>MOBI_REGIO</td>\n",
       "      <td>region_rr1</td>\n",
       "      <td>ordinal</td>\n",
       "      <td>[]</td>\n",
       "    </tr>\n",
       "    <tr>\n",
       "      <th>72</th>\n",
       "      <td>ONLINE_AFFINITAET</td>\n",
       "      <td>region_rr1</td>\n",
       "      <td>ordinal</td>\n",
       "      <td>[]</td>\n",
       "    </tr>\n",
       "    <tr>\n",
       "      <th>73</th>\n",
       "      <td>REGIOTYP</td>\n",
       "      <td>region_rr1</td>\n",
       "      <td>ordinal</td>\n",
       "      <td>[-1,0]</td>\n",
       "    </tr>\n",
       "    <tr>\n",
       "      <th>74</th>\n",
       "      <td>KBA13_ANZAHL_PKW</td>\n",
       "      <td>macrocell_plz8</td>\n",
       "      <td>numeric</td>\n",
       "      <td>[]</td>\n",
       "    </tr>\n",
       "    <tr>\n",
       "      <th>75</th>\n",
       "      <td>PLZ8_ANTG1</td>\n",
       "      <td>macrocell_plz8</td>\n",
       "      <td>ordinal</td>\n",
       "      <td>[-1]</td>\n",
       "    </tr>\n",
       "    <tr>\n",
       "      <th>76</th>\n",
       "      <td>PLZ8_ANTG2</td>\n",
       "      <td>macrocell_plz8</td>\n",
       "      <td>ordinal</td>\n",
       "      <td>[-1]</td>\n",
       "    </tr>\n",
       "    <tr>\n",
       "      <th>77</th>\n",
       "      <td>PLZ8_ANTG3</td>\n",
       "      <td>macrocell_plz8</td>\n",
       "      <td>ordinal</td>\n",
       "      <td>[-1]</td>\n",
       "    </tr>\n",
       "    <tr>\n",
       "      <th>78</th>\n",
       "      <td>PLZ8_ANTG4</td>\n",
       "      <td>macrocell_plz8</td>\n",
       "      <td>ordinal</td>\n",
       "      <td>[-1]</td>\n",
       "    </tr>\n",
       "    <tr>\n",
       "      <th>79</th>\n",
       "      <td>PLZ8_BAUMAX</td>\n",
       "      <td>macrocell_plz8</td>\n",
       "      <td>mixed</td>\n",
       "      <td>[-1,0]</td>\n",
       "    </tr>\n",
       "    <tr>\n",
       "      <th>80</th>\n",
       "      <td>PLZ8_HHZ</td>\n",
       "      <td>macrocell_plz8</td>\n",
       "      <td>ordinal</td>\n",
       "      <td>[-1]</td>\n",
       "    </tr>\n",
       "    <tr>\n",
       "      <th>81</th>\n",
       "      <td>PLZ8_GBZ</td>\n",
       "      <td>macrocell_plz8</td>\n",
       "      <td>ordinal</td>\n",
       "      <td>[-1]</td>\n",
       "    </tr>\n",
       "    <tr>\n",
       "      <th>82</th>\n",
       "      <td>ARBEIT</td>\n",
       "      <td>community</td>\n",
       "      <td>ordinal</td>\n",
       "      <td>[-1,9]</td>\n",
       "    </tr>\n",
       "    <tr>\n",
       "      <th>83</th>\n",
       "      <td>ORTSGR_KLS9</td>\n",
       "      <td>community</td>\n",
       "      <td>ordinal</td>\n",
       "      <td>[-1,0]</td>\n",
       "    </tr>\n",
       "    <tr>\n",
       "      <th>84</th>\n",
       "      <td>RELAT_AB</td>\n",
       "      <td>community</td>\n",
       "      <td>ordinal</td>\n",
       "      <td>[-1,9]</td>\n",
       "    </tr>\n",
       "  </tbody>\n",
       "</table>\n",
       "<p>85 rows × 4 columns</p>\n",
       "</div>"
      ],
      "text/plain": [
       "                attribute information_level         type missing_or_unknown\n",
       "0                AGER_TYP            person  categorical             [-1,0]\n",
       "1    ALTERSKATEGORIE_GROB            person      ordinal           [-1,0,9]\n",
       "2               ANREDE_KZ            person  categorical             [-1,0]\n",
       "3           CJT_GESAMTTYP            person  categorical                [0]\n",
       "4       FINANZ_MINIMALIST            person      ordinal               [-1]\n",
       "5           FINANZ_SPARER            person      ordinal               [-1]\n",
       "6        FINANZ_VORSORGER            person      ordinal               [-1]\n",
       "7          FINANZ_ANLEGER            person      ordinal               [-1]\n",
       "8   FINANZ_UNAUFFAELLIGER            person      ordinal               [-1]\n",
       "9        FINANZ_HAUSBAUER            person      ordinal               [-1]\n",
       "10              FINANZTYP            person  categorical               [-1]\n",
       "11            GEBURTSJAHR            person      numeric                [0]\n",
       "12        GFK_URLAUBERTYP            person  categorical                 []\n",
       "13       GREEN_AVANTGARDE            person  categorical                 []\n",
       "14             HEALTH_TYP            person      ordinal             [-1,0]\n",
       "15    LP_LEBENSPHASE_FEIN            person        mixed                [0]\n",
       "16    LP_LEBENSPHASE_GROB            person        mixed                [0]\n",
       "17        LP_FAMILIE_FEIN            person  categorical                [0]\n",
       "18        LP_FAMILIE_GROB            person  categorical                [0]\n",
       "19         LP_STATUS_FEIN            person  categorical                [0]\n",
       "20         LP_STATUS_GROB            person  categorical                [0]\n",
       "21       NATIONALITAET_KZ            person  categorical             [-1,0]\n",
       "22  PRAEGENDE_JUGENDJAHRE            person        mixed             [-1,0]\n",
       "23         RETOURTYP_BK_S            person      ordinal                [0]\n",
       "24              SEMIO_SOZ            person      ordinal             [-1,9]\n",
       "25              SEMIO_FAM            person      ordinal             [-1,9]\n",
       "26              SEMIO_REL            person      ordinal             [-1,9]\n",
       "27              SEMIO_MAT            person      ordinal             [-1,9]\n",
       "28             SEMIO_VERT            person      ordinal             [-1,9]\n",
       "29             SEMIO_LUST            person      ordinal             [-1,9]\n",
       "..                    ...               ...          ...                ...\n",
       "55            OST_WEST_KZ          building  categorical               [-1]\n",
       "56               WOHNLAGE          building        mixed               [-1]\n",
       "57        CAMEO_DEUG_2015     microcell_rr4  categorical             [-1,X]\n",
       "58         CAMEO_DEU_2015     microcell_rr4  categorical               [XX]\n",
       "59        CAMEO_INTL_2015     microcell_rr4        mixed            [-1,XX]\n",
       "60            KBA05_ANTG1     microcell_rr3      ordinal               [-1]\n",
       "61            KBA05_ANTG2     microcell_rr3      ordinal               [-1]\n",
       "62            KBA05_ANTG3     microcell_rr3      ordinal               [-1]\n",
       "63            KBA05_ANTG4     microcell_rr3      ordinal               [-1]\n",
       "64           KBA05_BAUMAX     microcell_rr3        mixed             [-1,0]\n",
       "65              KBA05_GBZ     microcell_rr3      ordinal             [-1,0]\n",
       "66               BALLRAUM          postcode      ordinal               [-1]\n",
       "67               EWDICHTE          postcode      ordinal               [-1]\n",
       "68             INNENSTADT          postcode      ordinal               [-1]\n",
       "69     GEBAEUDETYP_RASTER        region_rr1      ordinal                 []\n",
       "70                    KKK        region_rr1      ordinal             [-1,0]\n",
       "71             MOBI_REGIO        region_rr1      ordinal                 []\n",
       "72      ONLINE_AFFINITAET        region_rr1      ordinal                 []\n",
       "73               REGIOTYP        region_rr1      ordinal             [-1,0]\n",
       "74       KBA13_ANZAHL_PKW    macrocell_plz8      numeric                 []\n",
       "75             PLZ8_ANTG1    macrocell_plz8      ordinal               [-1]\n",
       "76             PLZ8_ANTG2    macrocell_plz8      ordinal               [-1]\n",
       "77             PLZ8_ANTG3    macrocell_plz8      ordinal               [-1]\n",
       "78             PLZ8_ANTG4    macrocell_plz8      ordinal               [-1]\n",
       "79            PLZ8_BAUMAX    macrocell_plz8        mixed             [-1,0]\n",
       "80               PLZ8_HHZ    macrocell_plz8      ordinal               [-1]\n",
       "81               PLZ8_GBZ    macrocell_plz8      ordinal               [-1]\n",
       "82                 ARBEIT         community      ordinal             [-1,9]\n",
       "83            ORTSGR_KLS9         community      ordinal             [-1,0]\n",
       "84               RELAT_AB         community      ordinal             [-1,9]\n",
       "\n",
       "[85 rows x 4 columns]"
      ]
     },
     "execution_count": 6,
     "metadata": {},
     "output_type": "execute_result"
    }
   ],
   "source": [
    "feat_info"
   ]
  },
  {
   "cell_type": "code",
   "execution_count": 7,
   "metadata": {},
   "outputs": [
    {
     "name": "stdout",
     "output_type": "stream",
     "text": [
      "<class 'pandas.core.frame.DataFrame'>\n",
      "RangeIndex: 85 entries, 0 to 84\n",
      "Data columns (total 4 columns):\n",
      "attribute             85 non-null object\n",
      "information_level     85 non-null object\n",
      "type                  85 non-null object\n",
      "missing_or_unknown    85 non-null object\n",
      "dtypes: object(4)\n",
      "memory usage: 2.7+ KB\n"
     ]
    }
   ],
   "source": [
    "feat_info.info()"
   ]
  },
  {
   "cell_type": "code",
   "execution_count": 8,
   "metadata": {},
   "outputs": [
    {
     "data": {
      "text/plain": [
       "(85, 4)"
      ]
     },
     "execution_count": 8,
     "metadata": {},
     "output_type": "execute_result"
    }
   ],
   "source": [
    "feat_info.shape"
   ]
  },
  {
   "cell_type": "code",
   "execution_count": null,
   "metadata": {},
   "outputs": [],
   "source": []
  },
  {
   "cell_type": "markdown",
   "metadata": {},
   "source": [
    "> **Tip**: Add additional cells to keep everything in reasonably-sized chunks! Keyboard shortcut `esc --> a` (press escape to enter command mode, then press the 'A' key) adds a new cell before the active cell, and `esc --> b` adds a new cell after the active cell. If you need to convert an active cell to a markdown cell, use `esc --> m` and to convert to a code cell, use `esc --> y`. \n",
    "\n",
    "## Step 1: Preprocessing\n",
    "\n",
    "### Step 1.1: Assess Missing Data\n",
    "\n",
    "The feature summary file contains a summary of properties for each demographics data column. You will use this file to help you make cleaning decisions during this stage of the project. First of all, you should assess the demographics data in terms of missing data. Pay attention to the following points as you perform your analysis, and take notes on what you observe. Make sure that you fill in the **Discussion** cell with your findings and decisions at the end of each step that has one!\n",
    "\n",
    "#### Step 1.1.1: Convert Missing Value Codes to NaNs\n",
    "The fourth column of the feature attributes summary (loaded in above as `feat_info`) documents the codes from the data dictionary that indicate missing or unknown data. While the file encodes this as a list (e.g. `[-1,0]`), this will get read in as a string object. You'll need to do a little bit of parsing to make use of it to identify and clean the data. Convert data that matches a 'missing' or 'unknown' value code into a numpy NaN value. You might want to see how much data takes on a 'missing' or 'unknown' code, and how much data is naturally missing, as a point of interest.\n",
    "\n",
    "**As one more reminder, you are encouraged to add additional cells to break up your analysis into manageable chunks.**"
   ]
  },
  {
   "cell_type": "code",
   "execution_count": 9,
   "metadata": {},
   "outputs": [
    {
     "name": "stdout",
     "output_type": "stream",
     "text": [
      "There are 4,896,838 missing or unknown data values on the Azdias dataset\n"
     ]
    }
   ],
   "source": [
    "# Identify missing or unknown data values and convert them to NaNs.\n",
    "\n",
    "missing_or_unknown_values=azdias.isnull().sum().sum()\n",
    "print('There are {:,} missing or unknown data values on the Azdias dataset'.format(missing_or_unknown_values))"
   ]
  },
  {
   "cell_type": "code",
   "execution_count": 10,
   "metadata": {},
   "outputs": [],
   "source": [
    "for i in range(len(feat_info)): \n",
    "    missing_or_unknown_values = feat_info.iloc[i]['missing_or_unknown'].strip('[').strip(']').split(',')\n",
    "    missing_or_unknown_values = [int(value) if (value != 'X' and value != 'XX' and value != '') \n",
    "                                 else value for value in missing_or_unknown_values]\n",
    "    if missing_or_unknown_values != ['']:\n",
    "        azdias=azdias.replace({feat_info.iloc[i]['attribute']: missing_or_unknown_values}, np.nan)"
   ]
  },
  {
   "cell_type": "code",
   "execution_count": 11,
   "metadata": {},
   "outputs": [
    {
     "data": {
      "text/plain": [
       "[-1, 9]"
      ]
     },
     "execution_count": 11,
     "metadata": {},
     "output_type": "execute_result"
    }
   ],
   "source": [
    "missing_or_unknown_values"
   ]
  },
  {
   "cell_type": "code",
   "execution_count": 12,
   "metadata": {},
   "outputs": [
    {
     "name": "stdout",
     "output_type": "stream",
     "text": [
      "The number of null data values after conversion is 8,373,929\n"
     ]
    }
   ],
   "source": [
    "print('The number of null data values after conversion is {:,}'.format(azdias.isnull().sum().sum()))"
   ]
  },
  {
   "cell_type": "markdown",
   "metadata": {},
   "source": [
    "#### Step 1.1.2: Assess Missing Data in Each Column\n",
    "\n",
    "How much missing data is present in each column? There are a few columns that are outliers in terms of the proportion of values that are missing. You will want to use matplotlib's [`hist()`](https://matplotlib.org/api/_as_gen/matplotlib.pyplot.hist.html) function to visualize the distribution of missing value counts to find these columns. Identify and document these columns. While some of these columns might have justifications for keeping or re-encoding the data, for this project you should just remove them from the dataframe. (Feel free to make remarks about these outlier columns in the discussion, however!)\n",
    "\n",
    "For the remaining features, are there any patterns in which columns have, or share, missing data?"
   ]
  },
  {
   "cell_type": "code",
   "execution_count": 13,
   "metadata": {},
   "outputs": [],
   "source": [
    "# Perform an assessment of how much missing data there is in each column of the\n",
    "# dataset.\n",
    "\n",
    "missing_unknow = (azdias.isnull().sum()/len(azdias))*100"
   ]
  },
  {
   "cell_type": "code",
   "execution_count": 14,
   "metadata": {},
   "outputs": [
    {
     "data": {
      "text/plain": [
       "ZABEOTYP                  0.000000\n",
       "SEMIO_TRADV               0.000000\n",
       "SEMIO_PFLICHT             0.000000\n",
       "SEMIO_KAEM                0.000000\n",
       "SEMIO_DOM                 0.000000\n",
       "SEMIO_KRIT                0.000000\n",
       "SEMIO_RAT                 0.000000\n",
       "SEMIO_KULT                0.000000\n",
       "SEMIO_ERL                 0.000000\n",
       "SEMIO_LUST                0.000000\n",
       "SEMIO_VERT                0.000000\n",
       "SEMIO_MAT                 0.000000\n",
       "SEMIO_REL                 0.000000\n",
       "SEMIO_SOZ                 0.000000\n",
       "SEMIO_FAM                 0.000000\n",
       "FINANZ_VORSORGER          0.000000\n",
       "ANREDE_KZ                 0.000000\n",
       "FINANZ_MINIMALIST         0.000000\n",
       "FINANZ_SPARER             0.000000\n",
       "FINANZ_ANLEGER            0.000000\n",
       "FINANZ_UNAUFFAELLIGER     0.000000\n",
       "FINANZ_HAUSBAUER          0.000000\n",
       "GREEN_AVANTGARDE          0.000000\n",
       "FINANZTYP                 0.000000\n",
       "ALTERSKATEGORIE_GROB      0.323264\n",
       "GFK_URLAUBERTYP           0.544646\n",
       "LP_STATUS_GROB            0.544646\n",
       "LP_STATUS_FEIN            0.544646\n",
       "ONLINE_AFFINITAET         0.544646\n",
       "RETOURTYP_BK_S            0.544646\n",
       "                           ...    \n",
       "CAMEO_INTL_2015          11.147852\n",
       "ANZ_HAUSHALTE_AKTIV      11.176913\n",
       "KBA13_ANZAHL_PKW         11.871354\n",
       "PRAEGENDE_JUGENDJAHRE    12.136608\n",
       "NATIONALITAET_KZ         12.153551\n",
       "HEALTH_TYP               12.476816\n",
       "VERS_TYP                 12.476816\n",
       "SHOPPER_TYP              12.476816\n",
       "PLZ8_ANTG2               13.073637\n",
       "PLZ8_ANTG3               13.073637\n",
       "PLZ8_ANTG1               13.073637\n",
       "PLZ8_ANTG4               13.073637\n",
       "PLZ8_BAUMAX              13.073637\n",
       "PLZ8_HHZ                 13.073637\n",
       "PLZ8_GBZ                 13.073637\n",
       "KBA05_ANTG3              14.959701\n",
       "KBA05_ANTG2              14.959701\n",
       "KBA05_ANTG1              14.959701\n",
       "MOBI_REGIO               14.959701\n",
       "KBA05_GBZ                14.959701\n",
       "KBA05_ANTG4              14.959701\n",
       "W_KEIT_KIND_HH           16.605084\n",
       "KKK                      17.735668\n",
       "REGIOTYP                 17.735668\n",
       "ALTER_HH                 34.813699\n",
       "GEBURTSJAHR              44.020282\n",
       "KBA05_BAUMAX             53.468668\n",
       "KK_KUNDENTYP             65.596749\n",
       "AGER_TYP                 76.955435\n",
       "TITEL_KZ                 99.757636\n",
       "Length: 85, dtype: float64"
      ]
     },
     "execution_count": 14,
     "metadata": {},
     "output_type": "execute_result"
    }
   ],
   "source": [
    "missing_unknow.sort_values(ascending=True)"
   ]
  },
  {
   "cell_type": "code",
   "execution_count": 15,
   "metadata": {},
   "outputs": [
    {
     "data": {
      "image/png": "[encoded data removed]",
      "text/plain": [
       "<matplotlib.figure.Figure at 0x7fdd2f83fe48>"
      ]
     },
     "metadata": {
      "needs_background": "light"
     },
     "output_type": "display_data"
    }
   ],
   "source": [
    "# Investigate patterns in the amount of missing data in each column.\n",
    "plt.hist(missing_unknow, bins=20,facecolor='y', alpha=0.75)\n",
    "plt.ylabel('Number of Columns')\n",
    "plt.xlabel('Percentage of Missing Values')\n",
    "plt.grid(True)\n",
    "plt.show()"
   ]
  },
  {
   "cell_type": "code",
   "execution_count": 16,
   "metadata": {},
   "outputs": [],
   "source": [
    "# Remove the outlier columns from the dataset. (You'll perform other data\n",
    "# engineering tasks such as re-encoding and imputation later.)\n",
    "#By definition outliers are columns with more than 20% of NaN data in columns.\n",
    "\n",
    "drop_outliers = missing_unknow[missing_unknow >20]"
   ]
  },
  {
   "cell_type": "code",
   "execution_count": 17,
   "metadata": {},
   "outputs": [],
   "source": [
    "drop_columns = drop_outliers.index.tolist()"
   ]
  },
  {
   "cell_type": "code",
   "execution_count": 18,
   "metadata": {},
   "outputs": [
    {
     "data": {
      "text/plain": [
       "['AGER_TYP',\n",
       " 'GEBURTSJAHR',\n",
       " 'TITEL_KZ',\n",
       " 'ALTER_HH',\n",
       " 'KK_KUNDENTYP',\n",
       " 'KBA05_BAUMAX']"
      ]
     },
     "execution_count": 18,
     "metadata": {},
     "output_type": "execute_result"
    }
   ],
   "source": [
    "drop_columns"
   ]
  },
  {
   "cell_type": "code",
   "execution_count": 19,
   "metadata": {},
   "outputs": [
    {
     "name": "stdout",
     "output_type": "stream",
     "text": [
      "These columns have more than 20 percent missing data:['AGER_TYP', 'GEBURTSJAHR', 'TITEL_KZ', 'ALTER_HH', 'KK_KUNDENTYP', 'KBA05_BAUMAX']\n"
     ]
    }
   ],
   "source": [
    "print('These columns have more than 20 percent missing data:{}'.format(drop_columns))"
   ]
  },
  {
   "cell_type": "code",
   "execution_count": 20,
   "metadata": {},
   "outputs": [],
   "source": [
    "azdias = azdias.drop(drop_columns, axis=1)"
   ]
  },
  {
   "cell_type": "code",
   "execution_count": 21,
   "metadata": {},
   "outputs": [
    {
     "data": {
      "text/plain": [
       "(891221, 79)"
      ]
     },
     "execution_count": 21,
     "metadata": {},
     "output_type": "execute_result"
    }
   ],
   "source": [
    "azdias.shape"
   ]
  },
  {
   "cell_type": "markdown",
   "metadata": {},
   "source": [
    "#### Discussion 1.1.2: Assess Missing Data in Each Column\n",
    "\n",
    "We can observe 79 columns have less than 20% of missing_unknow, but 6 columns showed more than 20%. The name of the column dropped were 'AGER_TYP', 'GEBURTSJAHR', 'TITEL_KZ', 'ALTER_HH', 'KK_KUNDENTYP', 'KBA05_BAUMAX'​."
   ]
  },
  {
   "cell_type": "markdown",
   "metadata": {},
   "source": [
    "#### Step 1.1.3: Assess Missing Data in Each Row\n",
    "\n",
    "Now, you'll perform a similar assessment for the rows of the dataset. How much data is missing in each row? As with the columns, you should see some groups of points that have a very different numbers of missing values. Divide the data into two subsets: one for data points that are above some threshold for missing values, and a second subset for points below that threshold.\n",
    "\n",
    "In order to know what to do with the outlier rows, we should see if the distribution of data values on columns that are not missing data (or are missing very little data) are similar or different between the two groups. Select at least five of these columns and compare the distribution of values.\n",
    "- You can use seaborn's [`countplot()`](https://seaborn.pydata.org/generated/seaborn.countplot.html) function to create a bar chart of code frequencies and matplotlib's [`subplot()`](https://matplotlib.org/api/_as_gen/matplotlib.pyplot.subplot.html) function to put bar charts for the two subplots side by side.\n",
    "- To reduce repeated code, you might want to write a function that can perform this comparison, taking as one of its arguments a column to be compared.\n",
    "\n",
    "Depending on what you observe in your comparison, this will have implications on how you approach your conclusions later in the analysis. If the distributions of non-missing features look similar between the data with many missing values and the data with few or no missing values, then we could argue that simply dropping those points from the analysis won't present a major issue. On the other hand, if the data with many missing values looks very different from the data with few or no missing values, then we should make a note on those data as special. We'll revisit these data later on. **Either way, you should continue your analysis for now using just the subset of the data with few or no missing values.**"
   ]
  },
  {
   "cell_type": "code",
   "execution_count": 22,
   "metadata": {},
   "outputs": [
    {
     "data": {
      "text/plain": [
       "count    891221.000000\n",
       "mean          5.649894\n",
       "std          13.234687\n",
       "min           0.000000\n",
       "25%           0.000000\n",
       "50%           0.000000\n",
       "75%           3.000000\n",
       "max          49.000000\n",
       "dtype: float64"
      ]
     },
     "execution_count": 22,
     "metadata": {},
     "output_type": "execute_result"
    }
   ],
   "source": [
    "# How much data is missing in each row of the dataset?\n",
    "missing_per_row =azdias.isnull().sum(axis=1)\n",
    "missing_per_row.describe()"
   ]
  },
  {
   "cell_type": "code",
   "execution_count": 23,
   "metadata": {},
   "outputs": [
    {
     "data": {
      "image/png": "[encoded data removed]",
      "text/plain": [
       "<matplotlib.figure.Figure at 0x7fdd2d518a20>"
      ]
     },
     "metadata": {
      "needs_background": "light"
     },
     "output_type": "display_data"
    }
   ],
   "source": [
    "plt.hist(missing_per_row, bins=20,facecolor='blue', alpha=0.75)\n",
    "plt.ylabel('Number of rows')\n",
    "plt.xlabel('Number of NaN')\n",
    "plt.grid(True)\n",
    "plt.show()"
   ]
  },
  {
   "cell_type": "code",
   "execution_count": 24,
   "metadata": {},
   "outputs": [
    {
     "name": "stdout",
     "output_type": "stream",
     "text": [
      "(774743, 79)\n",
      "(116478, 79)\n"
     ]
    }
   ],
   "source": [
    "# Write code to divide the data into two subsets based on the number of missing\n",
    "# values in each row.\n",
    "azdias_less_than_10 = azdias[azdias.isnull().sum(axis=1) < 10]\n",
    "azdias_more_than_10 = azdias[azdias.isnull().sum(axis=1) >= 10]\n",
    "print(azdias_less_than_10.shape)\n",
    "print(azdias_more_than_10.shape)\n",
    "azdias_row_deleted = len(azdias_more_than_10)"
   ]
  },
  {
   "cell_type": "code",
   "execution_count": 25,
   "metadata": {},
   "outputs": [
    {
     "data": {
      "text/html": [
       "<div>\n",
       "<style scoped>\n",
       "    .dataframe tbody tr th:only-of-type {\n",
       "        vertical-align: middle;\n",
       "    }\n",
       "\n",
       "    .dataframe tbody tr th {\n",
       "        vertical-align: top;\n",
       "    }\n",
       "\n",
       "    .dataframe thead th {\n",
       "        text-align: right;\n",
       "    }\n",
       "</style>\n",
       "<table border=\"1\" class=\"dataframe\">\n",
       "  <thead>\n",
       "    <tr style=\"text-align: right;\">\n",
       "      <th></th>\n",
       "      <th>ALTERSKATEGORIE_GROB</th>\n",
       "      <th>ANREDE_KZ</th>\n",
       "      <th>CJT_GESAMTTYP</th>\n",
       "      <th>FINANZ_MINIMALIST</th>\n",
       "      <th>FINANZ_SPARER</th>\n",
       "      <th>FINANZ_VORSORGER</th>\n",
       "      <th>FINANZ_ANLEGER</th>\n",
       "      <th>FINANZ_UNAUFFAELLIGER</th>\n",
       "      <th>FINANZ_HAUSBAUER</th>\n",
       "      <th>FINANZTYP</th>\n",
       "      <th>...</th>\n",
       "      <th>PLZ8_ANTG1</th>\n",
       "      <th>PLZ8_ANTG2</th>\n",
       "      <th>PLZ8_ANTG3</th>\n",
       "      <th>PLZ8_ANTG4</th>\n",
       "      <th>PLZ8_BAUMAX</th>\n",
       "      <th>PLZ8_HHZ</th>\n",
       "      <th>PLZ8_GBZ</th>\n",
       "      <th>ARBEIT</th>\n",
       "      <th>ORTSGR_KLS9</th>\n",
       "      <th>RELAT_AB</th>\n",
       "    </tr>\n",
       "  </thead>\n",
       "  <tbody>\n",
       "    <tr>\n",
       "      <th>count</th>\n",
       "      <td>772147.000000</td>\n",
       "      <td>774743.000000</td>\n",
       "      <td>774743.000000</td>\n",
       "      <td>774743.000000</td>\n",
       "      <td>774743.000000</td>\n",
       "      <td>774743.000000</td>\n",
       "      <td>774743.000000</td>\n",
       "      <td>774743.000000</td>\n",
       "      <td>774743.000000</td>\n",
       "      <td>774743.000000</td>\n",
       "      <td>...</td>\n",
       "      <td>766960.000000</td>\n",
       "      <td>766960.000000</td>\n",
       "      <td>766960.000000</td>\n",
       "      <td>766960.000000</td>\n",
       "      <td>766960.000000</td>\n",
       "      <td>766960.000000</td>\n",
       "      <td>766960.000000</td>\n",
       "      <td>770807.000000</td>\n",
       "      <td>770893.000000</td>\n",
       "      <td>770807.000000</td>\n",
       "    </tr>\n",
       "    <tr>\n",
       "      <th>mean</th>\n",
       "      <td>2.796903</td>\n",
       "      <td>1.521221</td>\n",
       "      <td>3.496504</td>\n",
       "      <td>3.050652</td>\n",
       "      <td>2.710942</td>\n",
       "      <td>3.438778</td>\n",
       "      <td>2.837575</td>\n",
       "      <td>2.633012</td>\n",
       "      <td>3.144132</td>\n",
       "      <td>3.818625</td>\n",
       "      <td>...</td>\n",
       "      <td>2.252275</td>\n",
       "      <td>2.802769</td>\n",
       "      <td>1.596735</td>\n",
       "      <td>0.699986</td>\n",
       "      <td>1.945656</td>\n",
       "      <td>3.612779</td>\n",
       "      <td>3.379818</td>\n",
       "      <td>3.174345</td>\n",
       "      <td>5.306886</td>\n",
       "      <td>3.079348</td>\n",
       "    </tr>\n",
       "    <tr>\n",
       "      <th>std</th>\n",
       "      <td>1.019782</td>\n",
       "      <td>0.499550</td>\n",
       "      <td>1.536491</td>\n",
       "      <td>1.377400</td>\n",
       "      <td>1.486386</td>\n",
       "      <td>1.377239</td>\n",
       "      <td>1.472501</td>\n",
       "      <td>1.393403</td>\n",
       "      <td>1.398325</td>\n",
       "      <td>2.089813</td>\n",
       "      <td>...</td>\n",
       "      <td>0.972288</td>\n",
       "      <td>0.920481</td>\n",
       "      <td>0.986863</td>\n",
       "      <td>0.727384</td>\n",
       "      <td>1.460308</td>\n",
       "      <td>0.973575</td>\n",
       "      <td>1.111673</td>\n",
       "      <td>0.996905</td>\n",
       "      <td>2.302338</td>\n",
       "      <td>1.359219</td>\n",
       "    </tr>\n",
       "    <tr>\n",
       "      <th>min</th>\n",
       "      <td>1.000000</td>\n",
       "      <td>1.000000</td>\n",
       "      <td>1.000000</td>\n",
       "      <td>1.000000</td>\n",
       "      <td>1.000000</td>\n",
       "      <td>1.000000</td>\n",
       "      <td>1.000000</td>\n",
       "      <td>1.000000</td>\n",
       "      <td>1.000000</td>\n",
       "      <td>1.000000</td>\n",
       "      <td>...</td>\n",
       "      <td>0.000000</td>\n",
       "      <td>0.000000</td>\n",
       "      <td>0.000000</td>\n",
       "      <td>0.000000</td>\n",
       "      <td>1.000000</td>\n",
       "      <td>1.000000</td>\n",
       "      <td>1.000000</td>\n",
       "      <td>1.000000</td>\n",
       "      <td>1.000000</td>\n",
       "      <td>1.000000</td>\n",
       "    </tr>\n",
       "    <tr>\n",
       "      <th>25%</th>\n",
       "      <td>2.000000</td>\n",
       "      <td>1.000000</td>\n",
       "      <td>2.000000</td>\n",
       "      <td>2.000000</td>\n",
       "      <td>1.000000</td>\n",
       "      <td>2.000000</td>\n",
       "      <td>1.000000</td>\n",
       "      <td>1.000000</td>\n",
       "      <td>2.000000</td>\n",
       "      <td>2.000000</td>\n",
       "      <td>...</td>\n",
       "      <td>1.000000</td>\n",
       "      <td>2.000000</td>\n",
       "      <td>1.000000</td>\n",
       "      <td>0.000000</td>\n",
       "      <td>1.000000</td>\n",
       "      <td>3.000000</td>\n",
       "      <td>3.000000</td>\n",
       "      <td>3.000000</td>\n",
       "      <td>4.000000</td>\n",
       "      <td>2.000000</td>\n",
       "    </tr>\n",
       "    <tr>\n",
       "      <th>50%</th>\n",
       "      <td>3.000000</td>\n",
       "      <td>2.000000</td>\n",
       "      <td>4.000000</td>\n",
       "      <td>3.000000</td>\n",
       "      <td>3.000000</td>\n",
       "      <td>4.000000</td>\n",
       "      <td>3.000000</td>\n",
       "      <td>2.000000</td>\n",
       "      <td>3.000000</td>\n",
       "      <td>5.000000</td>\n",
       "      <td>...</td>\n",
       "      <td>2.000000</td>\n",
       "      <td>3.000000</td>\n",
       "      <td>2.000000</td>\n",
       "      <td>1.000000</td>\n",
       "      <td>1.000000</td>\n",
       "      <td>4.000000</td>\n",
       "      <td>3.000000</td>\n",
       "      <td>3.000000</td>\n",
       "      <td>5.000000</td>\n",
       "      <td>3.000000</td>\n",
       "    </tr>\n",
       "    <tr>\n",
       "      <th>75%</th>\n",
       "      <td>4.000000</td>\n",
       "      <td>2.000000</td>\n",
       "      <td>5.000000</td>\n",
       "      <td>4.000000</td>\n",
       "      <td>4.000000</td>\n",
       "      <td>5.000000</td>\n",
       "      <td>4.000000</td>\n",
       "      <td>4.000000</td>\n",
       "      <td>4.000000</td>\n",
       "      <td>6.000000</td>\n",
       "      <td>...</td>\n",
       "      <td>3.000000</td>\n",
       "      <td>3.000000</td>\n",
       "      <td>2.000000</td>\n",
       "      <td>1.000000</td>\n",
       "      <td>3.000000</td>\n",
       "      <td>4.000000</td>\n",
       "      <td>4.000000</td>\n",
       "      <td>4.000000</td>\n",
       "      <td>7.000000</td>\n",
       "      <td>4.000000</td>\n",
       "    </tr>\n",
       "    <tr>\n",
       "      <th>max</th>\n",
       "      <td>4.000000</td>\n",
       "      <td>2.000000</td>\n",
       "      <td>6.000000</td>\n",
       "      <td>5.000000</td>\n",
       "      <td>5.000000</td>\n",
       "      <td>5.000000</td>\n",
       "      <td>5.000000</td>\n",
       "      <td>5.000000</td>\n",
       "      <td>5.000000</td>\n",
       "      <td>6.000000</td>\n",
       "      <td>...</td>\n",
       "      <td>4.000000</td>\n",
       "      <td>4.000000</td>\n",
       "      <td>3.000000</td>\n",
       "      <td>2.000000</td>\n",
       "      <td>5.000000</td>\n",
       "      <td>5.000000</td>\n",
       "      <td>5.000000</td>\n",
       "      <td>5.000000</td>\n",
       "      <td>9.000000</td>\n",
       "      <td>5.000000</td>\n",
       "    </tr>\n",
       "  </tbody>\n",
       "</table>\n",
       "<p>8 rows × 75 columns</p>\n",
       "</div>"
      ],
      "text/plain": [
       "       ALTERSKATEGORIE_GROB      ANREDE_KZ  CJT_GESAMTTYP  FINANZ_MINIMALIST  \\\n",
       "count         772147.000000  774743.000000  774743.000000      774743.000000   \n",
       "mean               2.796903       1.521221       3.496504           3.050652   \n",
       "std                1.019782       0.499550       1.536491           1.377400   \n",
       "min                1.000000       1.000000       1.000000           1.000000   \n",
       "25%                2.000000       1.000000       2.000000           2.000000   \n",
       "50%                3.000000       2.000000       4.000000           3.000000   \n",
       "75%                4.000000       2.000000       5.000000           4.000000   \n",
       "max                4.000000       2.000000       6.000000           5.000000   \n",
       "\n",
       "       FINANZ_SPARER  FINANZ_VORSORGER  FINANZ_ANLEGER  FINANZ_UNAUFFAELLIGER  \\\n",
       "count  774743.000000     774743.000000   774743.000000          774743.000000   \n",
       "mean        2.710942          3.438778        2.837575               2.633012   \n",
       "std         1.486386          1.377239        1.472501               1.393403   \n",
       "min         1.000000          1.000000        1.000000               1.000000   \n",
       "25%         1.000000          2.000000        1.000000               1.000000   \n",
       "50%         3.000000          4.000000        3.000000               2.000000   \n",
       "75%         4.000000          5.000000        4.000000               4.000000   \n",
       "max         5.000000          5.000000        5.000000               5.000000   \n",
       "\n",
       "       FINANZ_HAUSBAUER      FINANZTYP      ...           PLZ8_ANTG1  \\\n",
       "count     774743.000000  774743.000000      ...        766960.000000   \n",
       "mean           3.144132       3.818625      ...             2.252275   \n",
       "std            1.398325       2.089813      ...             0.972288   \n",
       "min            1.000000       1.000000      ...             0.000000   \n",
       "25%            2.000000       2.000000      ...             1.000000   \n",
       "50%            3.000000       5.000000      ...             2.000000   \n",
       "75%            4.000000       6.000000      ...             3.000000   \n",
       "max            5.000000       6.000000      ...             4.000000   \n",
       "\n",
       "          PLZ8_ANTG2     PLZ8_ANTG3     PLZ8_ANTG4    PLZ8_BAUMAX  \\\n",
       "count  766960.000000  766960.000000  766960.000000  766960.000000   \n",
       "mean        2.802769       1.596735       0.699986       1.945656   \n",
       "std         0.920481       0.986863       0.727384       1.460308   \n",
       "min         0.000000       0.000000       0.000000       1.000000   \n",
       "25%         2.000000       1.000000       0.000000       1.000000   \n",
       "50%         3.000000       2.000000       1.000000       1.000000   \n",
       "75%         3.000000       2.000000       1.000000       3.000000   \n",
       "max         4.000000       3.000000       2.000000       5.000000   \n",
       "\n",
       "            PLZ8_HHZ       PLZ8_GBZ         ARBEIT    ORTSGR_KLS9  \\\n",
       "count  766960.000000  766960.000000  770807.000000  770893.000000   \n",
       "mean        3.612779       3.379818       3.174345       5.306886   \n",
       "std         0.973575       1.111673       0.996905       2.302338   \n",
       "min         1.000000       1.000000       1.000000       1.000000   \n",
       "25%         3.000000       3.000000       3.000000       4.000000   \n",
       "50%         4.000000       3.000000       3.000000       5.000000   \n",
       "75%         4.000000       4.000000       4.000000       7.000000   \n",
       "max         5.000000       5.000000       5.000000       9.000000   \n",
       "\n",
       "            RELAT_AB  \n",
       "count  770807.000000  \n",
       "mean        3.079348  \n",
       "std         1.359219  \n",
       "min         1.000000  \n",
       "25%         2.000000  \n",
       "50%         3.000000  \n",
       "75%         4.000000  \n",
       "max         5.000000  \n",
       "\n",
       "[8 rows x 75 columns]"
      ]
     },
     "execution_count": 25,
     "metadata": {},
     "output_type": "execute_result"
    }
   ],
   "source": [
    "azdias_less_than_10.describe()"
   ]
  },
  {
   "cell_type": "code",
   "execution_count": 26,
   "metadata": {},
   "outputs": [
    {
     "data": {
      "text/html": [
       "<div>\n",
       "<style scoped>\n",
       "    .dataframe tbody tr th:only-of-type {\n",
       "        vertical-align: middle;\n",
       "    }\n",
       "\n",
       "    .dataframe tbody tr th {\n",
       "        vertical-align: top;\n",
       "    }\n",
       "\n",
       "    .dataframe thead th {\n",
       "        text-align: right;\n",
       "    }\n",
       "</style>\n",
       "<table border=\"1\" class=\"dataframe\">\n",
       "  <thead>\n",
       "    <tr style=\"text-align: right;\">\n",
       "      <th></th>\n",
       "      <th>ALTERSKATEGORIE_GROB</th>\n",
       "      <th>ANREDE_KZ</th>\n",
       "      <th>CJT_GESAMTTYP</th>\n",
       "      <th>FINANZ_MINIMALIST</th>\n",
       "      <th>FINANZ_SPARER</th>\n",
       "      <th>FINANZ_VORSORGER</th>\n",
       "      <th>FINANZ_ANLEGER</th>\n",
       "      <th>FINANZ_UNAUFFAELLIGER</th>\n",
       "      <th>FINANZ_HAUSBAUER</th>\n",
       "      <th>FINANZTYP</th>\n",
       "      <th>...</th>\n",
       "      <th>PLZ8_ANTG1</th>\n",
       "      <th>PLZ8_ANTG2</th>\n",
       "      <th>PLZ8_ANTG3</th>\n",
       "      <th>PLZ8_ANTG4</th>\n",
       "      <th>PLZ8_BAUMAX</th>\n",
       "      <th>PLZ8_HHZ</th>\n",
       "      <th>PLZ8_GBZ</th>\n",
       "      <th>ARBEIT</th>\n",
       "      <th>ORTSGR_KLS9</th>\n",
       "      <th>RELAT_AB</th>\n",
       "    </tr>\n",
       "  </thead>\n",
       "  <tbody>\n",
       "    <tr>\n",
       "      <th>count</th>\n",
       "      <td>116193.000000</td>\n",
       "      <td>116478.000000</td>\n",
       "      <td>111624.000000</td>\n",
       "      <td>116478.000000</td>\n",
       "      <td>116478.000000</td>\n",
       "      <td>116478.000000</td>\n",
       "      <td>116478.000000</td>\n",
       "      <td>116478.000000</td>\n",
       "      <td>116478.000000</td>\n",
       "      <td>116478.000000</td>\n",
       "      <td>...</td>\n",
       "      <td>7746.000000</td>\n",
       "      <td>7746.000000</td>\n",
       "      <td>7746.000000</td>\n",
       "      <td>7746.000000</td>\n",
       "      <td>7746.000000</td>\n",
       "      <td>7746.000000</td>\n",
       "      <td>7746.000000</td>\n",
       "      <td>23039.000000</td>\n",
       "      <td>23054.000000</td>\n",
       "      <td>23039.000000</td>\n",
       "    </tr>\n",
       "    <tr>\n",
       "      <th>mean</th>\n",
       "      <td>2.493489</td>\n",
       "      <td>1.527937</td>\n",
       "      <td>4.579087</td>\n",
       "      <td>3.233340</td>\n",
       "      <td>3.553341</td>\n",
       "      <td>3.150535</td>\n",
       "      <td>4.335368</td>\n",
       "      <td>4.478185</td>\n",
       "      <td>2.616099</td>\n",
       "      <td>3.604088</td>\n",
       "      <td>...</td>\n",
       "      <td>2.357733</td>\n",
       "      <td>2.711593</td>\n",
       "      <td>1.465789</td>\n",
       "      <td>0.617996</td>\n",
       "      <td>1.771366</td>\n",
       "      <td>3.616964</td>\n",
       "      <td>3.506713</td>\n",
       "      <td>2.910456</td>\n",
       "      <td>4.842066</td>\n",
       "      <td>2.792830</td>\n",
       "    </tr>\n",
       "    <tr>\n",
       "      <th>std</th>\n",
       "      <td>0.898544</td>\n",
       "      <td>0.499221</td>\n",
       "      <td>1.670886</td>\n",
       "      <td>0.839565</td>\n",
       "      <td>1.050663</td>\n",
       "      <td>0.828517</td>\n",
       "      <td>1.236823</td>\n",
       "      <td>1.019105</td>\n",
       "      <td>0.874027</td>\n",
       "      <td>1.070926</td>\n",
       "      <td>...</td>\n",
       "      <td>0.938092</td>\n",
       "      <td>0.898582</td>\n",
       "      <td>0.965341</td>\n",
       "      <td>0.697561</td>\n",
       "      <td>1.382641</td>\n",
       "      <td>1.012034</td>\n",
       "      <td>1.096985</td>\n",
       "      <td>1.036956</td>\n",
       "      <td>2.292667</td>\n",
       "      <td>1.375126</td>\n",
       "    </tr>\n",
       "    <tr>\n",
       "      <th>min</th>\n",
       "      <td>1.000000</td>\n",
       "      <td>1.000000</td>\n",
       "      <td>1.000000</td>\n",
       "      <td>1.000000</td>\n",
       "      <td>1.000000</td>\n",
       "      <td>1.000000</td>\n",
       "      <td>1.000000</td>\n",
       "      <td>1.000000</td>\n",
       "      <td>1.000000</td>\n",
       "      <td>1.000000</td>\n",
       "      <td>...</td>\n",
       "      <td>0.000000</td>\n",
       "      <td>0.000000</td>\n",
       "      <td>0.000000</td>\n",
       "      <td>0.000000</td>\n",
       "      <td>1.000000</td>\n",
       "      <td>1.000000</td>\n",
       "      <td>1.000000</td>\n",
       "      <td>1.000000</td>\n",
       "      <td>1.000000</td>\n",
       "      <td>1.000000</td>\n",
       "    </tr>\n",
       "    <tr>\n",
       "      <th>25%</th>\n",
       "      <td>2.000000</td>\n",
       "      <td>1.000000</td>\n",
       "      <td>3.000000</td>\n",
       "      <td>3.000000</td>\n",
       "      <td>4.000000</td>\n",
       "      <td>3.000000</td>\n",
       "      <td>4.000000</td>\n",
       "      <td>5.000000</td>\n",
       "      <td>2.000000</td>\n",
       "      <td>3.000000</td>\n",
       "      <td>...</td>\n",
       "      <td>2.000000</td>\n",
       "      <td>2.000000</td>\n",
       "      <td>1.000000</td>\n",
       "      <td>0.000000</td>\n",
       "      <td>1.000000</td>\n",
       "      <td>3.000000</td>\n",
       "      <td>3.000000</td>\n",
       "      <td>2.000000</td>\n",
       "      <td>3.000000</td>\n",
       "      <td>2.000000</td>\n",
       "    </tr>\n",
       "    <tr>\n",
       "      <th>50%</th>\n",
       "      <td>3.000000</td>\n",
       "      <td>2.000000</td>\n",
       "      <td>5.000000</td>\n",
       "      <td>3.000000</td>\n",
       "      <td>4.000000</td>\n",
       "      <td>3.000000</td>\n",
       "      <td>5.000000</td>\n",
       "      <td>5.000000</td>\n",
       "      <td>3.000000</td>\n",
       "      <td>4.000000</td>\n",
       "      <td>...</td>\n",
       "      <td>2.000000</td>\n",
       "      <td>3.000000</td>\n",
       "      <td>1.000000</td>\n",
       "      <td>0.000000</td>\n",
       "      <td>1.000000</td>\n",
       "      <td>4.000000</td>\n",
       "      <td>3.000000</td>\n",
       "      <td>3.000000</td>\n",
       "      <td>5.000000</td>\n",
       "      <td>3.000000</td>\n",
       "    </tr>\n",
       "    <tr>\n",
       "      <th>75%</th>\n",
       "      <td>3.000000</td>\n",
       "      <td>2.000000</td>\n",
       "      <td>6.000000</td>\n",
       "      <td>3.000000</td>\n",
       "      <td>4.000000</td>\n",
       "      <td>3.000000</td>\n",
       "      <td>5.000000</td>\n",
       "      <td>5.000000</td>\n",
       "      <td>3.000000</td>\n",
       "      <td>4.000000</td>\n",
       "      <td>...</td>\n",
       "      <td>3.000000</td>\n",
       "      <td>3.000000</td>\n",
       "      <td>2.000000</td>\n",
       "      <td>1.000000</td>\n",
       "      <td>2.000000</td>\n",
       "      <td>4.000000</td>\n",
       "      <td>4.000000</td>\n",
       "      <td>4.000000</td>\n",
       "      <td>7.000000</td>\n",
       "      <td>4.000000</td>\n",
       "    </tr>\n",
       "    <tr>\n",
       "      <th>max</th>\n",
       "      <td>4.000000</td>\n",
       "      <td>2.000000</td>\n",
       "      <td>6.000000</td>\n",
       "      <td>5.000000</td>\n",
       "      <td>5.000000</td>\n",
       "      <td>5.000000</td>\n",
       "      <td>5.000000</td>\n",
       "      <td>5.000000</td>\n",
       "      <td>5.000000</td>\n",
       "      <td>6.000000</td>\n",
       "      <td>...</td>\n",
       "      <td>4.000000</td>\n",
       "      <td>4.000000</td>\n",
       "      <td>3.000000</td>\n",
       "      <td>2.000000</td>\n",
       "      <td>5.000000</td>\n",
       "      <td>5.000000</td>\n",
       "      <td>5.000000</td>\n",
       "      <td>5.000000</td>\n",
       "      <td>9.000000</td>\n",
       "      <td>5.000000</td>\n",
       "    </tr>\n",
       "  </tbody>\n",
       "</table>\n",
       "<p>8 rows × 75 columns</p>\n",
       "</div>"
      ],
      "text/plain": [
       "       ALTERSKATEGORIE_GROB      ANREDE_KZ  CJT_GESAMTTYP  FINANZ_MINIMALIST  \\\n",
       "count         116193.000000  116478.000000  111624.000000      116478.000000   \n",
       "mean               2.493489       1.527937       4.579087           3.233340   \n",
       "std                0.898544       0.499221       1.670886           0.839565   \n",
       "min                1.000000       1.000000       1.000000           1.000000   \n",
       "25%                2.000000       1.000000       3.000000           3.000000   \n",
       "50%                3.000000       2.000000       5.000000           3.000000   \n",
       "75%                3.000000       2.000000       6.000000           3.000000   \n",
       "max                4.000000       2.000000       6.000000           5.000000   \n",
       "\n",
       "       FINANZ_SPARER  FINANZ_VORSORGER  FINANZ_ANLEGER  FINANZ_UNAUFFAELLIGER  \\\n",
       "count  116478.000000     116478.000000   116478.000000          116478.000000   \n",
       "mean        3.553341          3.150535        4.335368               4.478185   \n",
       "std         1.050663          0.828517        1.236823               1.019105   \n",
       "min         1.000000          1.000000        1.000000               1.000000   \n",
       "25%         4.000000          3.000000        4.000000               5.000000   \n",
       "50%         4.000000          3.000000        5.000000               5.000000   \n",
       "75%         4.000000          3.000000        5.000000               5.000000   \n",
       "max         5.000000          5.000000        5.000000               5.000000   \n",
       "\n",
       "       FINANZ_HAUSBAUER      FINANZTYP      ...        PLZ8_ANTG1  \\\n",
       "count     116478.000000  116478.000000      ...       7746.000000   \n",
       "mean           2.616099       3.604088      ...          2.357733   \n",
       "std            0.874027       1.070926      ...          0.938092   \n",
       "min            1.000000       1.000000      ...          0.000000   \n",
       "25%            2.000000       3.000000      ...          2.000000   \n",
       "50%            3.000000       4.000000      ...          2.000000   \n",
       "75%            3.000000       4.000000      ...          3.000000   \n",
       "max            5.000000       6.000000      ...          4.000000   \n",
       "\n",
       "        PLZ8_ANTG2   PLZ8_ANTG3   PLZ8_ANTG4  PLZ8_BAUMAX     PLZ8_HHZ  \\\n",
       "count  7746.000000  7746.000000  7746.000000  7746.000000  7746.000000   \n",
       "mean      2.711593     1.465789     0.617996     1.771366     3.616964   \n",
       "std       0.898582     0.965341     0.697561     1.382641     1.012034   \n",
       "min       0.000000     0.000000     0.000000     1.000000     1.000000   \n",
       "25%       2.000000     1.000000     0.000000     1.000000     3.000000   \n",
       "50%       3.000000     1.000000     0.000000     1.000000     4.000000   \n",
       "75%       3.000000     2.000000     1.000000     2.000000     4.000000   \n",
       "max       4.000000     3.000000     2.000000     5.000000     5.000000   \n",
       "\n",
       "          PLZ8_GBZ        ARBEIT   ORTSGR_KLS9      RELAT_AB  \n",
       "count  7746.000000  23039.000000  23054.000000  23039.000000  \n",
       "mean      3.506713      2.910456      4.842066      2.792830  \n",
       "std       1.096985      1.036956      2.292667      1.375126  \n",
       "min       1.000000      1.000000      1.000000      1.000000  \n",
       "25%       3.000000      2.000000      3.000000      2.000000  \n",
       "50%       3.000000      3.000000      5.000000      3.000000  \n",
       "75%       4.000000      4.000000      7.000000      4.000000  \n",
       "max       5.000000      5.000000      9.000000      5.000000  \n",
       "\n",
       "[8 rows x 75 columns]"
      ]
     },
     "execution_count": 26,
     "metadata": {},
     "output_type": "execute_result"
    }
   ],
   "source": [
    "azdias_more_than_10.describe()"
   ]
  },
  {
   "cell_type": "code",
   "execution_count": 27,
   "metadata": {},
   "outputs": [],
   "source": [
    "# Compare the distribution of values for at least five columns where there are\n",
    "# no or few missing values, between the two subsets.\n",
    "zero_missing_values_columns = missing_unknow[missing_unknow==0].index.tolist()\n",
    "comp_column = zero_missing_values_columns[1:7]"
   ]
  },
  {
   "cell_type": "code",
   "execution_count": 28,
   "metadata": {},
   "outputs": [
    {
     "data": {
      "image/png": "[encoded data removed]",
      "text/plain": [
       "<matplotlib.figure.Figure at 0x7fdd39f30198>"
      ]
     },
     "metadata": {
      "needs_background": "light"
     },
     "output_type": "display_data"
    }
   ],
   "source": [
    "figure, axs = plt.subplots(nrows=len(comp_column), ncols=2, figsize = (15,20))\n",
    "figure.subplots_adjust(hspace = 1, wspace=.3)\n",
    "for i in range(len(comp_column)):\n",
    "    sns.countplot(azdias_less_than_10[comp_column[i]], ax=axs[i][0])\n",
    "    axs[i][0].set_title('Less or equal to 10 NaN')\n",
    "    sns.countplot(azdias_more_than_10[comp_column[i]], ax=axs[i][1])\n",
    "    axs[i][1].set_title('More than 10 NaN')"
   ]
  },
  {
   "cell_type": "markdown",
   "metadata": {},
   "source": [
    "#### Discussion 1.1.3: Assess Missing Data in Each Row\n",
    "\n",
    "- In summary The two groups have different patterns of distribution. "
   ]
  },
  {
   "cell_type": "markdown",
   "metadata": {},
   "source": [
    "### Step 1.2: Select and Re-Encode Features\n",
    "\n",
    "Checking for missing data isn't the only way in which you can prepare a dataset for analysis. Since the unsupervised learning techniques to be used will only work on data that is encoded numerically, you need to make a few encoding changes or additional assumptions to be able to make progress. In addition, while almost all of the values in the dataset are encoded using numbers, not all of them represent numeric values. Check the third column of the feature summary (`feat_info`) for a summary of types of measurement.\n",
    "- For numeric and interval data, these features can be kept without changes.\n",
    "- Most of the variables in the dataset are ordinal in nature. While ordinal values may technically be non-linear in spacing, make the simplifying assumption that the ordinal variables can be treated as being interval in nature (that is, kept without any changes).\n",
    "- Special handling may be necessary for the remaining two variable types: categorical, and 'mixed'.\n",
    "\n",
    "In the first two parts of this sub-step, you will perform an investigation of the categorical and mixed-type features and make a decision on each of them, whether you will keep, drop, or re-encode each. Then, in the last part, you will create a new data frame with only the selected and engineered columns.\n",
    "\n",
    "Data wrangling is often the trickiest part of the data analysis process, and there's a lot of it to be done here. But stick with it: once you're done with this step, you'll be ready to get to the machine learning parts of the project!"
   ]
  },
  {
   "cell_type": "code",
   "execution_count": 29,
   "metadata": {},
   "outputs": [],
   "source": [
    "# How many features are there of each data type?\n",
    "features=list(azdias_less_than_10.columns)\n",
    "new_feat_info=feat_info[feat_info.attribute.isin(features)]\n",
    "distinct_data_type=new_feat_info.type.value_counts()"
   ]
  },
  {
   "cell_type": "code",
   "execution_count": 30,
   "metadata": {},
   "outputs": [
    {
     "name": "stdout",
     "output_type": "stream",
     "text": [
      " 49 ordinal features.\n",
      " 18 categorical features.\n",
      " 6 mixed features.\n",
      " 6 numeric features.\n"
     ]
    }
   ],
   "source": [
    "for i in range(len(distinct_data_type)):\n",
    "    print(' {} {} features.'.format(distinct_data_type[i], distinct_data_type.index[i]))"
   ]
  },
  {
   "cell_type": "markdown",
   "metadata": {},
   "source": [
    "#### Step 1.2.1: Re-Encode Categorical Features\n",
    "\n",
    "For categorical data, you would ordinarily need to encode the levels as dummy variables. Depending on the number of categories, perform one of the following:\n",
    "- For binary (two-level) categoricals that take numeric values, you can keep them without needing to do anything.\n",
    "- There is one binary variable that takes on non-numeric values. For this one, you need to re-encode the values as numbers or create a dummy variable.\n",
    "- For multi-level categoricals (three or more values), you can choose to encode the values using multiple dummy variables (e.g. via [OneHotEncoder](http://scikit-learn.org/stable/modules/generated/sklearn.preprocessing.OneHotEncoder.html)), or (to keep things straightforward) just drop them from the analysis. As always, document your choices in the Discussion section."
   ]
  },
  {
   "cell_type": "code",
   "execution_count": 31,
   "metadata": {},
   "outputs": [
    {
     "name": "stdout",
     "output_type": "stream",
     "text": [
      "Binary features are: ['ANREDE_KZ', 'GREEN_AVANTGARDE', 'SOHO_KZ', 'VERS_TYP', 'OST_WEST_KZ']\n",
      "\n",
      "Multi_level features are: ['CJT_GESAMTTYP', 'FINANZTYP', 'GFK_URLAUBERTYP', 'LP_FAMILIE_FEIN', 'LP_FAMILIE_GROB', 'LP_STATUS_FEIN', 'LP_STATUS_GROB', 'NATIONALITAET_KZ', 'SHOPPER_TYP', 'ZABEOTYP', 'GEBAEUDETYP', 'CAMEO_DEUG_2015', 'CAMEO_DEU_2015']\n"
     ]
    }
   ],
   "source": [
    "# Assess categorical variables: which are binary, which are multi-level, and\n",
    "# which one needs to be re-encoded?\n",
    "categorical_feature=new_feat_info[new_feat_info[\"type\"]==\"categorical\"].attribute\n",
    "binary=[]\n",
    "multi_level=[]\n",
    "\n",
    "for cat in categorical_feature:\n",
    "    if (azdias_less_than_10[cat].nunique())==2:\n",
    "        binary.append(cat)\n",
    "    else:\n",
    "        multi_level.append(cat)\n",
    "        \n",
    "        \n",
    "print('Binary features are: {}'.format(binary))\n",
    "print('')\n",
    "print('Multi_level features are: {}'.format(multi_level))"
   ]
  },
  {
   "cell_type": "code",
   "execution_count": 32,
   "metadata": {},
   "outputs": [
    {
     "name": "stdout",
     "output_type": "stream",
     "text": [
      "Distinct values for ANREDE_KZ are [2 1]\n",
      "Distinct values for GREEN_AVANTGARDE are [0 1]\n",
      "Distinct values for SOHO_KZ are [ 1.  0.]\n",
      "Distinct values for VERS_TYP are [  2.   1.  nan]\n",
      "Distinct values for OST_WEST_KZ are ['W' 'O']\n"
     ]
    }
   ],
   "source": [
    "for cat in binary:\n",
    "    print('Distinct values for {} are {}'.format(cat, azdias_less_than_10[cat].unique()))"
   ]
  },
  {
   "cell_type": "code",
   "execution_count": 33,
   "metadata": {},
   "outputs": [
    {
     "name": "stdout",
     "output_type": "stream",
     "text": [
      "Distinct values for CJT_GESAMTTYP are [ 5.  3.  2.  4.  1.  6.]\n",
      "Distinct values for FINANZTYP are [1 6 5 2 4 3]\n",
      "Distinct values for GFK_URLAUBERTYP are [ 10.   1.   5.  12.   9.   3.   8.  11.   4.   7.   2.   6.]\n",
      "Distinct values for LP_FAMILIE_FEIN are [  5.   1.  nan  10.   2.   7.  11.   8.   4.   6.   9.   3.]\n",
      "Distinct values for LP_FAMILIE_GROB are [  3.   1.  nan   5.   2.   4.]\n",
      "Distinct values for LP_STATUS_FEIN are [  2.   3.   9.   4.   1.  10.   5.   8.   6.   7.]\n",
      "Distinct values for LP_STATUS_GROB are [ 1.  2.  4.  5.  3.]\n",
      "Distinct values for NATIONALITAET_KZ are [  1.   3.   2.  nan]\n",
      "Distinct values for SHOPPER_TYP are [  3.   2.   1.   0.  nan]\n",
      "Distinct values for ZABEOTYP are [5 3 4 1 6 2]\n",
      "Distinct values for GEBAEUDETYP are [ 8.  1.  3.  2.  6.  4.  5.]\n",
      "Distinct values for CAMEO_DEUG_2015 are ['8' '4' '2' '6' '1' '9' '5' '7' '3' nan]\n",
      "Distinct values for CAMEO_DEU_2015 are ['8A' '4C' '2A' '6B' '8C' '4A' '2D' '1A' '1E' '9D' '5C' '8B' '7A' '5D' '9E'\n",
      " '9B' '1B' '3D' nan '4E' '4B' '3C' '5A' '7B' '9A' '6D' '6E' '2C' '7C' '9C'\n",
      " '7D' '5E' '1D' '8D' '6C' '6A' '5B' '4D' '3A' '2B' '7E' '3B' '6F' '5F' '1C']\n"
     ]
    }
   ],
   "source": [
    "for cat in multi_level:\n",
    "    print('Distinct values for {} are {}'.format(cat, azdias_less_than_10[cat].unique()))"
   ]
  },
  {
   "cell_type": "code",
   "execution_count": 34,
   "metadata": {},
   "outputs": [],
   "source": [
    "# Re-encode categorical variable(s) to be kept in the analysis.\n",
    "re_encode = {'W': 0, 'O': 1}\n",
    "azdias_re_encode = azdias_less_than_10.replace({'OST_WEST_KZ':re_encode})"
   ]
  },
  {
   "cell_type": "code",
   "execution_count": 35,
   "metadata": {},
   "outputs": [
    {
     "data": {
      "text/plain": [
       "(774743, 66)"
      ]
     },
     "execution_count": 35,
     "metadata": {},
     "output_type": "execute_result"
    }
   ],
   "source": [
    "# For multilevel level feature droped!\n",
    "azdias_re_encode_dropped_ML = azdias_re_encode.drop(multi_level, axis=1)\n",
    "azdias_re_encode_dropped_ML.shape"
   ]
  },
  {
   "cell_type": "code",
   "execution_count": 36,
   "metadata": {},
   "outputs": [
    {
     "data": {
      "text/plain": [
       "66"
      ]
     },
     "execution_count": 36,
     "metadata": {},
     "output_type": "execute_result"
    }
   ],
   "source": [
    "79-len(multi_level)"
   ]
  },
  {
   "cell_type": "markdown",
   "metadata": {},
   "source": [
    "#### Discussion 1.2.1: Re-Encode Categorical Features\n",
    "1. I kept 'ANREDE_KZ', 'GREEN_AVANTGARDE', 'SOHO_KZ' because most of the Machine learning algorithms just handle categorical variables as numbers those are binaries so they do not require any transformation.\n",
    "2. For categorical multi-level features for simplicity I will keep things straightforward, so I will just dropped.\n",
    "3. For the feature 'OST_WEST_KZ' I replaced non numeric values using the dictionary re_encode = {'W': 0, 'O': 1} and kept it in analysis.\n"
   ]
  },
  {
   "cell_type": "markdown",
   "metadata": {},
   "source": [
    "#### Step 1.2.2: Engineer Mixed-Type Features\n",
    "\n",
    "There are a handful of features that are marked as \"mixed\" in the feature summary that require special treatment in order to be included in the analysis. There are two in particular that deserve attention; the handling of the rest are up to your own choices:\n",
    "- \"PRAEGENDE_JUGENDJAHRE\" combines information on three dimensions: generation by decade, movement (mainstream vs. avantgarde), and nation (east vs. west). While there aren't enough levels to disentangle east from west, you should create two new variables to capture the other two dimensions: an interval-type variable for decade, and a binary variable for movement.\n",
    "- \"CAMEO_INTL_2015\" combines information on two axes: wealth and life stage. Break up the two-digit codes by their 'tens'-place and 'ones'-place digits into two new ordinal variables (which, for the purposes of this project, is equivalent to just treating them as their raw numeric values).\n",
    "- If you decide to keep or engineer new features around the other mixed-type features, make sure you note your steps in the Discussion section.\n",
    "\n",
    "Be sure to check `Data_Dictionary.md` for the details needed to finish these tasks."
   ]
  },
  {
   "cell_type": "code",
   "execution_count": 37,
   "metadata": {},
   "outputs": [],
   "source": [
    "# Investigate \"PRAEGENDE_JUGENDJAHRE\" and engineer two new variables.\n",
    "azdias_re_encode_dropped_ML['DECADE']=azdias_re_encode_dropped_ML['PRAEGENDE_JUGENDJAHRE']\n",
    "\n",
    "azdias_re_encode_dropped_ML['MOVEMENT']=azdias_re_encode_dropped_ML['PRAEGENDE_JUGENDJAHRE']"
   ]
  },
  {
   "cell_type": "code",
   "execution_count": 38,
   "metadata": {},
   "outputs": [],
   "source": [
    "decade = {1:1, 2:1, 3:2, 4:2, 5:3, 6:3, 7:3, 8:4, 9:4, 10:5, 11:5, 12:5, 13:5, 14:6, 15:6}\n",
    "movement = {1:1, 2:0, 3:1, 4:0, 5:1, 6:0, 7:0, 8:1, 9:0, 10:1, 11:0, 12:1, 13:0, 14:1, 15:0}"
   ]
  },
  {
   "cell_type": "code",
   "execution_count": 39,
   "metadata": {},
   "outputs": [],
   "source": [
    "azdias_re_encode_dropped_ML['DECADE'].replace(decade, inplace=True)\n",
    "azdias_re_encode_dropped_ML['MOVEMENT'].replace(movement, inplace=True)"
   ]
  },
  {
   "cell_type": "code",
   "execution_count": 40,
   "metadata": {},
   "outputs": [],
   "source": [
    "# Investigate \"CAMEO_INTL_2015\" and engineer two new variables.\n",
    "azdias_re_encode_dropped_ML['WEALTH'] = azdias_re_encode_dropped_ML['CAMEO_INTL_2015']\n",
    "azdias_re_encode_dropped_ML['LIFE_STAGE'] = azdias_re_encode_dropped_ML['CAMEO_INTL_2015']\n"
   ]
  },
  {
   "cell_type": "code",
   "execution_count": 41,
   "metadata": {},
   "outputs": [],
   "source": [
    "wealth = {'11':1, '12':1, '13':1, '14':1, '15':1, '21':2, '22':2, '23':2, '24':2, '25':2,\n",
    "               '31':3, '32':3, '33':3, '34':3, '35':3, '41':4, '42':4, '43':4, '44':4, '45':4,\n",
    "               '51':5, '52':5, '53':5, '54':5, '55':5}\n",
    "\n",
    "life_stage = {'11':1, '12':2, '13':3, '14':4, '15':5, '21':1, '22':2, '23':3, '24':4, '25':5,\n",
    "                   '31':1, '32':2, '33':3, '34':4, '35':5, '41':1, '42':2, '43':3, '44':4, '45':5,\n",
    "                   '51':1, '52':2, '53':3, '54':4, '55':5}"
   ]
  },
  {
   "cell_type": "code",
   "execution_count": 42,
   "metadata": {},
   "outputs": [],
   "source": [
    "azdias_re_encode_dropped_ML['WEALTH'].replace(wealth, inplace=True)\n",
    "azdias_re_encode_dropped_ML['LIFE_STAGE'].replace(life_stage, inplace=True)"
   ]
  },
  {
   "cell_type": "markdown",
   "metadata": {},
   "source": [
    "#### Discussion 1.2.2: Engineer Mixed-Type Features\n",
    "\n",
    "1. I will drop:\n",
    "    - PRAEGENDE_JUGENDJAHRE\n",
    "    - CAMEO_INTL_2015\n",
    "2. I transformed 'PRAEGENDE_JUGENDJAHRE' into 2 new binary feature DECADE and MOVEMENT:\n",
    "    - I created 2 new dictionaries 'decade' and 'movement' base on Data_Dictionary.md.\n",
    "    - Clone azdias_re_encode_dropped_ML['PRAEGENDE_JUGENDJAHRE'] into two new features 'DECADE' and 'MOVEMENT'\n",
    "    - Replace inplace values contain 'PRAEGENDE_JUGENDJAHRE' using dictionaries 'decade' and 'movement'.\n",
    "    \n",
    "    \n",
    "3. I repeated the same steps but using \"azdias_re_encode_dropped_ML['CAMEO_INTL_2015']\" and replace contain values using 'wealth' and life_'stage' as dictionaries."
   ]
  },
  {
   "cell_type": "markdown",
   "metadata": {},
   "source": [
    "#### Step 1.2.3: Complete Feature Selection\n",
    "\n",
    "In order to finish this step up, you need to make sure that your data frame now only has the columns that you want to keep. To summarize, the dataframe should consist of the following:\n",
    "- All numeric, interval, and ordinal type columns from the original dataset.\n",
    "- Binary categorical features (all numerically-encoded).\n",
    "- Engineered features from other multi-level categorical features and mixed features.\n",
    "\n",
    "Make sure that for any new columns that you have engineered, that you've excluded the original columns from the final dataset. Otherwise, their values will interfere with the analysis later on the project. For example, you should not keep \"PRAEGENDE_JUGENDJAHRE\", since its values won't be useful for the algorithm: only the values derived from it in the engineered features you created should be retained. As a reminder, your data should only be from **the subset with few or no missing values**."
   ]
  },
  {
   "cell_type": "code",
   "execution_count": 43,
   "metadata": {},
   "outputs": [],
   "source": [
    "# If there are other re-engineering tasks you need to perform, make sure you\n",
    "# take care of them here. (Dealing with missing data will come in step 2.1.)\n",
    "\n"
   ]
  },
  {
   "cell_type": "code",
   "execution_count": 44,
   "metadata": {},
   "outputs": [],
   "source": [
    "# Do whatever you need to in order to ensure that the dataframe only contains\n",
    "# the columns that should be passed to the algorithm functions.\n",
    "\n",
    "mixed_features = new_feat_info[new_feat_info[\"type\"]==\"mixed\"][\"attribute\"]\n",
    "\n",
    "for ele in mixed_features:\n",
    "    azdias_re_encode_dropped_ML.drop(ele, axis=1, inplace=True)\n"
   ]
  },
  {
   "cell_type": "code",
   "execution_count": 45,
   "metadata": {},
   "outputs": [
    {
     "data": {
      "text/plain": [
       "(774743, 64)"
      ]
     },
     "execution_count": 45,
     "metadata": {},
     "output_type": "execute_result"
    }
   ],
   "source": [
    "azdias_re_encode_dropped_ML.shape"
   ]
  },
  {
   "cell_type": "code",
   "execution_count": 46,
   "metadata": {},
   "outputs": [
    {
     "data": {
      "text/plain": [
       "Index(['ALTERSKATEGORIE_GROB', 'ANREDE_KZ', 'FINANZ_MINIMALIST',\n",
       "       'FINANZ_SPARER', 'FINANZ_VORSORGER', 'FINANZ_ANLEGER',\n",
       "       'FINANZ_UNAUFFAELLIGER', 'FINANZ_HAUSBAUER', 'GREEN_AVANTGARDE',\n",
       "       'HEALTH_TYP', 'RETOURTYP_BK_S', 'SEMIO_SOZ', 'SEMIO_FAM', 'SEMIO_REL',\n",
       "       'SEMIO_MAT', 'SEMIO_VERT', 'SEMIO_LUST', 'SEMIO_ERL', 'SEMIO_KULT',\n",
       "       'SEMIO_RAT', 'SEMIO_KRIT', 'SEMIO_DOM', 'SEMIO_KAEM', 'SEMIO_PFLICHT',\n",
       "       'SEMIO_TRADV', 'SOHO_KZ', 'VERS_TYP', 'ANZ_PERSONEN', 'ANZ_TITEL',\n",
       "       'HH_EINKOMMEN_SCORE', 'W_KEIT_KIND_HH', 'WOHNDAUER_2008',\n",
       "       'ANZ_HAUSHALTE_AKTIV', 'ANZ_HH_TITEL', 'KONSUMNAEHE',\n",
       "       'MIN_GEBAEUDEJAHR', 'OST_WEST_KZ', 'KBA05_ANTG1', 'KBA05_ANTG2',\n",
       "       'KBA05_ANTG3', 'KBA05_ANTG4', 'KBA05_GBZ', 'BALLRAUM', 'EWDICHTE',\n",
       "       'INNENSTADT', 'GEBAEUDETYP_RASTER', 'KKK', 'MOBI_REGIO',\n",
       "       'ONLINE_AFFINITAET', 'REGIOTYP', 'KBA13_ANZAHL_PKW', 'PLZ8_ANTG1',\n",
       "       'PLZ8_ANTG2', 'PLZ8_ANTG3', 'PLZ8_ANTG4', 'PLZ8_HHZ', 'PLZ8_GBZ',\n",
       "       'ARBEIT', 'ORTSGR_KLS9', 'RELAT_AB', 'DECADE', 'MOVEMENT', 'WEALTH',\n",
       "       'LIFE_STAGE'],\n",
       "      dtype='object')"
      ]
     },
     "execution_count": 46,
     "metadata": {},
     "output_type": "execute_result"
    }
   ],
   "source": [
    "azdias_re_encode_dropped_ML.columns"
   ]
  },
  {
   "cell_type": "markdown",
   "metadata": {},
   "source": [
    "### Step 1.3: Create a Cleaning Function\n",
    "\n",
    "Even though you've finished cleaning up the general population demographics data, it's important to look ahead to the future and realize that you'll need to perform the same cleaning steps on the customer demographics data. In this substep, complete the function below to execute the main feature selection, encoding, and re-engineering steps you performed above. Then, when it comes to looking at the customer data in Step 3, you can just run this function on that DataFrame to get the trimmed dataset in a single step."
   ]
  },
  {
   "cell_type": "code",
   "execution_count": 47,
   "metadata": {},
   "outputs": [],
   "source": [
    "def cleanse_data(df):\n",
    "    \"\"\"\n",
    "    Perform feature trimming, re-encoding, and engineering for demographics\n",
    "    data\n",
    "    \n",
    "    INPUT: Demographics DataFrame\n",
    "    OUTPUT: Trimmed and cleaned demographics DataFrame\n",
    "    \"\"\"\n",
    "    \n",
    "    # Put in code here to execute all main cleaning steps:\n",
    "    # convert missing value codes into NaNs, ...\n",
    "    for i in range(len(feat_info)):\n",
    "        missing_or_unknown_val = feat_info.iloc[i]['missing_or_unknown'].strip('[').strip(']').split(',')\n",
    "        missing_or_unknown_val = [int(value) if (value != 'X' and value != 'XX' and value != '') \n",
    "                                     else value for value in missing_or_unknown_val]\n",
    "        if missing_or_unknown_val != ['']:\n",
    "            df=df.replace({feat_info.iloc[i]['attribute']: missing_or_unknown_val}, np.nan)\n",
    "    \n",
    "    missing_unknow = (df.isnull().sum()/len(df))*100\n",
    "    \n",
    "    # remove selected columns and rows, ...\n",
    "    # dropped columns:\n",
    "    #I will use drop_columns from azdias dataset to keep the same dropped columns on both dataset\n",
    "    df_cleanse_dropped = df.drop(drop_columns, axis=1)\n",
    "    \n",
    "    # dropped row with less or equal to 10 missing values:\n",
    "    df_less_than_10 = df_cleanse_dropped[df_cleanse_dropped.isnull().sum(axis=1) < 10]\n",
    "    \n",
    "    # select, re-encode, and engineer column values.\n",
    "    # Re-encode categorical variable(s) to be kept in the analysis.\n",
    "    re_encode = {'W': 0, 'O': 1}\n",
    "    df_re_encode = df_less_than_10.replace({'OST_WEST_KZ':re_encode})\n",
    "    \n",
    "    # For multilevel level feature droped!\n",
    "    features=list(df_less_than_10.columns)\n",
    "    new_feat_info=feat_info[feat_info.attribute.isin(features)]\n",
    "    categorical_feature=new_feat_info[new_feat_info[\"type\"]==\"categorical\"].attribute\n",
    "    multi_level=[]\n",
    "\n",
    "    for cat in categorical_feature:\n",
    "        if (df_less_than_10[cat].nunique())>2:\n",
    "            multi_level.append(cat)\n",
    "\n",
    "    df_re_encode_dropped_ML = df_re_encode.drop(multi_level, axis=1)\n",
    "    \n",
    "    df_re_encode_dropped_ML['DECADE']=df_re_encode_dropped_ML['PRAEGENDE_JUGENDJAHRE']\n",
    "\n",
    "    df_re_encode_dropped_ML['MOVEMENT']=df_re_encode_dropped_ML['PRAEGENDE_JUGENDJAHRE']\n",
    "        \n",
    "    decade = {1:1, 2:1, 3:2, 4:2, 5:3, 6:3, 7:3, 8:4, 9:4, 10:5, 11:5, 12:5, 13:5, 14:6, 15:6}\n",
    "    movement = {1:1, 2:0, 3:1, 4:0, 5:1, 6:0, 7:0, 8:1, 9:0, 10:1, 11:0, 12:1, 13:0, 14:1, 15:0}\n",
    "\n",
    "    df_re_encode_dropped_ML['DECADE'].replace(decade, inplace=True)\n",
    "    df_re_encode_dropped_ML['MOVEMENT'].replace(movement, inplace=True)\n",
    "\n",
    "    df_re_encode_dropped_ML['WEALTH'] = df_re_encode_dropped_ML['CAMEO_INTL_2015']\n",
    "    df_re_encode_dropped_ML['LIFE_STAGE'] = df_re_encode_dropped_ML['CAMEO_INTL_2015']\n",
    "\n",
    "    \n",
    "    wealth = {'11':1, '12':1, '13':1, '14':1, '15':1, '21':2, '22':2, '23':2, '24':2, '25':2,\n",
    "                   '31':3, '32':3, '33':3, '34':3, '35':3, '41':4, '42':4, '43':4, '44':4, '45':4,\n",
    "                   '51':5, '52':5, '53':5, '54':5, '55':5}\n",
    "\n",
    "    life_stage = {'11':1, '12':2, '13':3, '14':4, '15':5, '21':1, '22':2, '23':3, '24':4, '25':5,\n",
    "                       '31':1, '32':2, '33':3, '34':4, '35':5, '41':1, '42':2, '43':3, '44':4, '45':5,\n",
    "                       '51':1, '52':2, '53':3, '54':4, '55':5}\n",
    "\n",
    "    df_re_encode_dropped_ML['WEALTH'].replace(wealth, inplace=True)\n",
    "    df_re_encode_dropped_ML['LIFE_STAGE'].replace(life_stage, inplace=True)\n",
    "    \n",
    "    mixed_features = new_feat_info[new_feat_info[\"type\"]==\"mixed\"][\"attribute\"]\n",
    "\n",
    "    for ele in mixed_features:\n",
    "        df_re_encode_dropped_ML.drop(ele, axis=1, inplace=True)\n",
    "    \n",
    "    # Return the cleaned dataframe.\n",
    "    return df_re_encode_dropped_ML"
   ]
  },
  {
   "cell_type": "markdown",
   "metadata": {},
   "source": [
    "## Step 2: Feature Transformation\n",
    "\n",
    "### Step 2.1: Apply Feature Scaling\n",
    "\n",
    "Before we apply dimensionality reduction techniques to the data, we need to perform feature scaling so that the principal component vectors are not influenced by the natural differences in scale for features. Starting from this part of the project, you'll want to keep an eye on the [API reference page for sklearn](http://scikit-learn.org/stable/modules/classes.html) to help you navigate to all of the classes and functions that you'll need. In this substep, you'll need to check the following:\n",
    "\n",
    "- sklearn requires that data not have missing values in order for its estimators to work properly. So, before applying the scaler to your data, make sure that you've cleaned the DataFrame of the remaining missing values. This can be as simple as just removing all data points with missing data, or applying an [Imputer](http://scikit-learn.org/stable/modules/generated/sklearn.preprocessing.Imputer.html) to replace all missing values. You might also try a more complicated procedure where you temporarily remove missing values in order to compute the scaling parameters before re-introducing those missing values and applying imputation. Think about how much missing data you have and what possible effects each approach might have on your analysis, and justify your decision in the discussion section below.\n",
    "- For the actual scaling function, a [StandardScaler](http://scikit-learn.org/stable/modules/generated/sklearn.preprocessing.StandardScaler.html) instance is suggested, scaling each feature to mean 0 and standard deviation 1.\n",
    "- For these classes, you can make use of the `.fit_transform()` method to both fit a procedure to the data as well as apply the transformation to the data at the same time. Don't forget to keep the fit sklearn objects handy, since you'll be applying them to the customer demographics data towards the end of the project."
   ]
  },
  {
   "cell_type": "code",
   "execution_count": 48,
   "metadata": {},
   "outputs": [],
   "source": [
    "# If you've not yet cleaned the dataset of all NaN values, then investigate and\n",
    "# do that now.\n",
    "fill_missing = Imputer(missing_values='NaN',strategy='most_frequent',axis=0)\n",
    "cleansed_imputed = pd.DataFrame(fill_missing.fit_transform(azdias_re_encode_dropped_ML))\n",
    "headings_list = list(azdias_re_encode_dropped_ML.columns)"
   ]
  },
  {
   "cell_type": "code",
   "execution_count": 49,
   "metadata": {},
   "outputs": [],
   "source": [
    "# Apply feature scaling to the general population demographics data.\n",
    "scaler = StandardScaler() \n",
    "azdias_cleansed_scaled = scaler.fit_transform(cleansed_imputed)"
   ]
  },
  {
   "cell_type": "code",
   "execution_count": 50,
   "metadata": {},
   "outputs": [],
   "source": [
    "azdias_cleansed_scaled = pd.DataFrame(azdias_cleansed_scaled,columns=headings_list)"
   ]
  },
  {
   "cell_type": "markdown",
   "metadata": {},
   "source": [
    "### Discussion 2.1: Apply Feature Scaling\n",
    "\n",
    "Because most of the ML model require numeric values, removed all the NaN using the recomended method Imputer. Another requirement to get a better result when apply our ML model is having a centered and scaled dataset, so the variance of the features are in the same range."
   ]
  },
  {
   "cell_type": "markdown",
   "metadata": {},
   "source": [
    "### Step 2.2: Perform Dimensionality Reduction\n",
    "\n",
    "On your scaled data, you are now ready to apply dimensionality reduction techniques.\n",
    "\n",
    "- Use sklearn's [PCA](http://scikit-learn.org/stable/modules/generated/sklearn.decomposition.PCA.html) class to apply principal component analysis on the data, thus finding the vectors of maximal variance in the data. To start, you should not set any parameters (so all components are computed) or set a number of components that is at least half the number of features (so there's enough features to see the general trend in variability).\n",
    "- Check out the ratio of variance explained by each principal component as well as the cumulative variance explained. Try plotting the cumulative or sequential values using matplotlib's [`plot()`](https://matplotlib.org/api/_as_gen/matplotlib.pyplot.plot.html) function. Based on what you find, select a value for the number of transformed features you'll retain for the clustering part of the project.\n",
    "- Once you've made a choice for the number of components to keep, make sure you re-fit a PCA instance to perform the decided-on transformation."
   ]
  },
  {
   "cell_type": "code",
   "execution_count": 51,
   "metadata": {},
   "outputs": [
    {
     "data": {
      "text/plain": [
       "PCA(copy=True, iterated_power='auto', n_components=None, random_state=None,\n",
       "  svd_solver='auto', tol=0.0, whiten=False)"
      ]
     },
     "execution_count": 51,
     "metadata": {},
     "output_type": "execute_result"
    }
   ],
   "source": [
    "# Apply PCA to the data.\n",
    "pca = PCA()\n",
    "pca.fit(azdias_cleansed_scaled)"
   ]
  },
  {
   "cell_type": "code",
   "execution_count": 52,
   "metadata": {},
   "outputs": [
    {
     "data": {
      "image/png": "[encoded data removed]",
      "text/plain": [
       "<matplotlib.figure.Figure at 0x7fdd3406d5c0>"
      ]
     },
     "metadata": {
      "needs_background": "light"
     },
     "output_type": "display_data"
    }
   ],
   "source": [
    "# Investigate the variance accounted for by each principal component.\n",
    "def scree_plot(pca):\n",
    "    '''\n",
    "    Creates a scree plot associated with the principal components \n",
    "    \n",
    "    INPUT: pca - the result of instantian of PCA in scikit learn\n",
    "            \n",
    "    OUTPUT:\n",
    "            None\n",
    "    '''\n",
    "    num_components = len(pca.explained_variance_ratio_)\n",
    "    ind = np.arange(num_components)\n",
    "    vals = pca.explained_variance_ratio_\n",
    " \n",
    "    plt.figure(figsize=(10, 6))\n",
    "    ax = plt.subplot(111)\n",
    "    cumvals = np.cumsum(vals)\n",
    "    ax.bar(ind, vals)\n",
    "    ax.plot(ind, cumvals)\n",
    "    for i in range(num_components):\n",
    "        ax.annotate(r\"%s%%\" % ((str(vals[i]*100)[:4])), (ind[i]+0.2, vals[i]), va=\"bottom\", ha=\"center\", fontsize=12)\n",
    " \n",
    "    ax.xaxis.set_tick_params(width=0)\n",
    "    ax.yaxis.set_tick_params(width=2, length=12)\n",
    " \n",
    "    ax.set_xlabel(\"Principal Component\")\n",
    "    ax.set_ylabel(\"Variance Explained (%)\")\n",
    "    plt.title('Explained Variance Per Principal Component')\n",
    "    \n",
    "\n",
    "scree_plot(pca)\n"
   ]
  },
  {
   "cell_type": "code",
   "execution_count": 53,
   "metadata": {},
   "outputs": [
    {
     "name": "stdout",
     "output_type": "stream",
     "text": [
      "Number of components where the variance is the 0.80: 20\n"
     ]
    }
   ],
   "source": [
    "data_cum=pd.DataFrame(np.cumsum(pca.explained_variance_ratio_)).sort_values(by=0,ascending=True)\n",
    "#Number of component where variance is the 0.8\n",
    "dfs=data_cum.index[data_cum[0]<=0.80][-1:][0]\n",
    "print('Number of components where the variance is the 0.80: {}'.format(dfs))"
   ]
  },
  {
   "cell_type": "code",
   "execution_count": 54,
   "metadata": {},
   "outputs": [],
   "source": [
    "# Re-apply PCA to the data while selecting for number of components to retain.\n",
    "pca_20 = PCA(n_components=20)\n",
    "azdias_scaled_pca_20 = pca_20.fit_transform(azdias_cleansed_scaled)"
   ]
  },
  {
   "cell_type": "code",
   "execution_count": 55,
   "metadata": {},
   "outputs": [
    {
     "data": {
      "image/png": "[encoded data removed]",
      "text/plain": [
       "<matplotlib.figure.Figure at 0x7fdd3280f5f8>"
      ]
     },
     "metadata": {
      "needs_background": "light"
     },
     "output_type": "display_data"
    }
   ],
   "source": [
    "scree_plot(pca_20)"
   ]
  },
  {
   "cell_type": "markdown",
   "metadata": {},
   "source": [
    "### Discussion 2.2: Perform Dimensionality Reduction\n",
    "\n",
    "I decided to apply a pareto rule and investigate how many features are causing a 80% of the variation. The answer is 20 features. so I decided to asign as number of components 20."
   ]
  },
  {
   "cell_type": "markdown",
   "metadata": {},
   "source": [
    "### Step 2.3: Interpret Principal Components\n",
    "\n",
    "Now that we have our transformed principal components, it's a nice idea to check out the weight of each variable on the first few components to see if they can be interpreted in some fashion.\n",
    "\n",
    "As a reminder, each principal component is a unit vector that points in the direction of highest variance (after accounting for the variance captured by earlier principal components). The further a weight is from zero, the more the principal component is in the direction of the corresponding feature. If two features have large weights of the same sign (both positive or both negative), then increases in one tend expect to be associated with increases in the other. To contrast, features with different signs can be expected to show a negative correlation: increases in one variable should result in a decrease in the other.\n",
    "\n",
    "- To investigate the features, you should map each weight to their corresponding feature name, then sort the features according to weight. The most interesting features for each principal component, then, will be those at the beginning and end of the sorted list. Use the data dictionary document to help you understand these most prominent features, their relationships, and what a positive or negative value on the principal component might indicate.\n",
    "- You should investigate and interpret feature associations from the first three principal components in this substep. To help facilitate this, you should write a function that you can call at any time to print the sorted list of feature weights, for the *i*-th principal component. This might come in handy in the next step of the project, when you interpret the tendencies of the discovered clusters."
   ]
  },
  {
   "cell_type": "code",
   "execution_count": 56,
   "metadata": {},
   "outputs": [],
   "source": [
    "# Map weights for the first principal component to corresponding feature names\n",
    "\n",
    "# HINT: Try defining a function here or in a new cell that you can reuse in the\n",
    "# other cells.\n",
    "def pca_weights(pca, component):\n",
    "    df = pd.DataFrame(pca.components_, columns=headings_list)\n",
    "    weights = df.iloc[component].sort_values(ascending=False)\n",
    "    return weights"
   ]
  },
  {
   "cell_type": "code",
   "execution_count": 57,
   "metadata": {},
   "outputs": [
    {
     "name": "stdout",
     "output_type": "stream",
     "text": [
      "PLZ8_ANTG3               0.225557\n",
      "PLZ8_ANTG4               0.217660\n",
      "WEALTH                   0.205413\n",
      "HH_EINKOMMEN_SCORE       0.203006\n",
      "ORTSGR_KLS9              0.196461\n",
      "EWDICHTE                 0.194385\n",
      "FINANZ_HAUSBAUER         0.160800\n",
      "KBA05_ANTG4              0.153768\n",
      "PLZ8_ANTG2               0.153582\n",
      "FINANZ_SPARER            0.150996\n",
      "ARBEIT                   0.142584\n",
      "KBA05_ANTG3              0.136626\n",
      "ANZ_HAUSHALTE_AKTIV      0.135737\n",
      "RELAT_AB                 0.134744\n",
      "SEMIO_PFLICHT            0.119023\n",
      "SEMIO_REL                0.116483\n",
      "MOVEMENT                 0.110876\n",
      "DECADE                   0.110593\n",
      "SEMIO_RAT                0.097982\n",
      "SEMIO_TRADV              0.091872\n",
      "SEMIO_MAT                0.081841\n",
      "SEMIO_FAM                0.080215\n",
      "FINANZ_UNAUFFAELLIGER    0.079832\n",
      "SEMIO_KULT               0.074349\n",
      "FINANZ_ANLEGER           0.073083\n",
      "REGIOTYP                 0.060739\n",
      "OST_WEST_KZ              0.053687\n",
      "SEMIO_SOZ                0.042640\n",
      "PLZ8_HHZ                 0.041651\n",
      "KKK                      0.039784\n",
      "                           ...   \n",
      "VERS_TYP                 0.031847\n",
      "SEMIO_DOM                0.023412\n",
      "KBA05_ANTG2              0.013122\n",
      "ANREDE_KZ                0.007227\n",
      "SEMIO_KRIT               0.004279\n",
      "SOHO_KZ                 -0.001975\n",
      "ANZ_TITEL               -0.004445\n",
      "RETOURTYP_BK_S          -0.020469\n",
      "SEMIO_VERT              -0.039890\n",
      "ONLINE_AFFINITAET       -0.042090\n",
      "MIN_GEBAEUDEJAHR        -0.052976\n",
      "WOHNDAUER_2008          -0.062689\n",
      "KBA13_ANZAHL_PKW        -0.075373\n",
      "SEMIO_LUST              -0.076546\n",
      "ANZ_PERSONEN            -0.078675\n",
      "SEMIO_ERL               -0.079196\n",
      "GREEN_AVANTGARDE        -0.110876\n",
      "GEBAEUDETYP_RASTER      -0.117015\n",
      "FINANZ_VORSORGER        -0.118331\n",
      "ALTERSKATEGORIE_GROB    -0.123576\n",
      "LIFE_STAGE              -0.125180\n",
      "BALLRAUM                -0.126779\n",
      "INNENSTADT              -0.164152\n",
      "PLZ8_GBZ                -0.166727\n",
      "KONSUMNAEHE             -0.167272\n",
      "KBA05_GBZ               -0.215986\n",
      "KBA05_ANTG1             -0.217086\n",
      "FINANZ_MINIMALIST       -0.221849\n",
      "PLZ8_ANTG1              -0.225517\n",
      "MOBI_REGIO              -0.229281\n",
      "Name: 0, Length: 64, dtype: float64\n"
     ]
    }
   ],
   "source": [
    "# Map weights for the first principal component to corresponding feature names\n",
    "# and then print the linked values, sorted by weight.\n",
    "pca_0 = pca_weights(pca_20, 0)\n",
    "print(pca_0)\n"
   ]
  },
  {
   "cell_type": "code",
   "execution_count": 58,
   "metadata": {},
   "outputs": [
    {
     "name": "stdout",
     "output_type": "stream",
     "text": [
      "ALTERSKATEGORIE_GROB     0.257225\n",
      "SEMIO_ERL                0.230254\n",
      "FINANZ_VORSORGER         0.229772\n",
      "SEMIO_LUST               0.180010\n",
      "RETOURTYP_BK_S           0.163492\n",
      "FINANZ_HAUSBAUER         0.118899\n",
      "SEMIO_KRIT               0.118716\n",
      "SEMIO_KAEM               0.115142\n",
      "W_KEIT_KIND_HH           0.113940\n",
      "PLZ8_ANTG3               0.098401\n",
      "EWDICHTE                 0.096010\n",
      "ORTSGR_KLS9              0.094732\n",
      "PLZ8_ANTG4               0.093254\n",
      "ANREDE_KZ                0.092439\n",
      "WEALTH                   0.077355\n",
      "KBA05_ANTG4              0.073475\n",
      "SEMIO_DOM                0.072393\n",
      "ARBEIT                   0.069855\n",
      "PLZ8_ANTG2               0.067884\n",
      "RELAT_AB                 0.067582\n",
      "ANZ_HAUSHALTE_AKTIV      0.064609\n",
      "FINANZ_MINIMALIST        0.062148\n",
      "HH_EINKOMMEN_SCORE       0.058100\n",
      "WOHNDAUER_2008           0.057503\n",
      "KBA05_ANTG3              0.048372\n",
      "ANZ_HH_TITEL             0.031630\n",
      "VERS_TYP                 0.031084\n",
      "OST_WEST_KZ              0.026817\n",
      "MOVEMENT                 0.017084\n",
      "PLZ8_HHZ                 0.013919\n",
      "                           ...   \n",
      "SOHO_KZ                 -0.002057\n",
      "KBA05_ANTG2             -0.004308\n",
      "GREEN_AVANTGARDE        -0.017084\n",
      "KBA13_ANZAHL_PKW        -0.035623\n",
      "GEBAEUDETYP_RASTER      -0.045669\n",
      "MIN_GEBAEUDEJAHR        -0.046812\n",
      "HEALTH_TYP              -0.057653\n",
      "BALLRAUM                -0.063645\n",
      "ANZ_PERSONEN            -0.064450\n",
      "SEMIO_VERT              -0.071523\n",
      "KONSUMNAEHE             -0.072580\n",
      "PLZ8_GBZ                -0.075345\n",
      "KBA05_ANTG1             -0.076991\n",
      "INNENSTADT              -0.078155\n",
      "MOBI_REGIO              -0.084788\n",
      "KBA05_GBZ               -0.091717\n",
      "PLZ8_ANTG1              -0.095840\n",
      "SEMIO_SOZ               -0.103599\n",
      "SEMIO_MAT               -0.161146\n",
      "ONLINE_AFFINITAET       -0.165133\n",
      "SEMIO_RAT               -0.168293\n",
      "SEMIO_FAM               -0.183684\n",
      "FINANZ_ANLEGER          -0.203837\n",
      "SEMIO_KULT              -0.220633\n",
      "FINANZ_UNAUFFAELLIGER   -0.225479\n",
      "SEMIO_PFLICHT           -0.227566\n",
      "SEMIO_TRADV             -0.228973\n",
      "FINANZ_SPARER           -0.232636\n",
      "DECADE                  -0.239610\n",
      "SEMIO_REL               -0.255052\n",
      "Name: 1, Length: 64, dtype: float64\n"
     ]
    }
   ],
   "source": [
    "# Map weights for the second principal component to corresponding feature names\n",
    "# and then print the linked values, sorted by weight.\n",
    "pca_1 = pca_weights(pca_20, 1)\n",
    "print(pca_1)\n"
   ]
  },
  {
   "cell_type": "code",
   "execution_count": 59,
   "metadata": {},
   "outputs": [
    {
     "name": "stdout",
     "output_type": "stream",
     "text": [
      "SEMIO_VERT               0.345985\n",
      "SEMIO_SOZ                0.262894\n",
      "SEMIO_FAM                0.249238\n",
      "SEMIO_KULT               0.232931\n",
      "FINANZ_MINIMALIST        0.155418\n",
      "RETOURTYP_BK_S           0.109850\n",
      "FINANZ_VORSORGER         0.100926\n",
      "W_KEIT_KIND_HH           0.085303\n",
      "ALTERSKATEGORIE_GROB     0.079533\n",
      "SEMIO_REL                0.068826\n",
      "SEMIO_LUST               0.064364\n",
      "SEMIO_MAT                0.054930\n",
      "ORTSGR_KLS9              0.049801\n",
      "EWDICHTE                 0.049136\n",
      "GREEN_AVANTGARDE         0.048521\n",
      "PLZ8_ANTG3               0.048370\n",
      "PLZ8_ANTG4               0.048113\n",
      "ARBEIT                   0.036308\n",
      "RELAT_AB                 0.033523\n",
      "PLZ8_ANTG2               0.032541\n",
      "WOHNDAUER_2008           0.032362\n",
      "KBA05_ANTG4              0.029299\n",
      "WEALTH                   0.028981\n",
      "ANZ_HAUSHALTE_AKTIV      0.026222\n",
      "OST_WEST_KZ              0.015668\n",
      "ANZ_HH_TITEL             0.013682\n",
      "KBA05_ANTG3              0.010592\n",
      "ANZ_TITEL                0.009773\n",
      "VERS_TYP                 0.005382\n",
      "PLZ8_HHZ                 0.004849\n",
      "                           ...   \n",
      "ANZ_PERSONEN            -0.010581\n",
      "KKK                     -0.015738\n",
      "MIN_GEBAEUDEJAHR        -0.016897\n",
      "HH_EINKOMMEN_SCORE      -0.018516\n",
      "KBA05_ANTG1             -0.022983\n",
      "KBA13_ANZAHL_PKW        -0.023120\n",
      "MOBI_REGIO              -0.028381\n",
      "KBA05_GBZ               -0.028636\n",
      "HEALTH_TYP              -0.029727\n",
      "GEBAEUDETYP_RASTER      -0.031585\n",
      "BALLRAUM                -0.037049\n",
      "KONSUMNAEHE             -0.039977\n",
      "PLZ8_GBZ                -0.040646\n",
      "FINANZ_HAUSBAUER        -0.042702\n",
      "INNENSTADT              -0.045508\n",
      "MOVEMENT                -0.048521\n",
      "PLZ8_ANTG1              -0.049154\n",
      "ONLINE_AFFINITAET       -0.055253\n",
      "SEMIO_TRADV             -0.079226\n",
      "SEMIO_PFLICHT           -0.080224\n",
      "FINANZ_UNAUFFAELLIGER   -0.099709\n",
      "FINANZ_SPARER           -0.106303\n",
      "DECADE                  -0.110836\n",
      "SEMIO_ERL               -0.174338\n",
      "FINANZ_ANLEGER          -0.190403\n",
      "SEMIO_RAT               -0.217379\n",
      "SEMIO_KRIT              -0.273428\n",
      "SEMIO_DOM               -0.313134\n",
      "SEMIO_KAEM              -0.335979\n",
      "ANREDE_KZ               -0.367987\n",
      "Name: 2, Length: 64, dtype: float64\n"
     ]
    }
   ],
   "source": [
    "# Map weights for the third principal component to corresponding feature names\n",
    "# and then print the linked values, sorted by weight.\n",
    "\n",
    "pca_2 = pca_weights(pca_20, 2)\n",
    "print(pca_2)"
   ]
  },
  {
   "cell_type": "code",
   "execution_count": 60,
   "metadata": {},
   "outputs": [
    {
     "name": "stdout",
     "output_type": "stream",
     "text": [
      "Component 1\n",
      "------------------------------\n",
      "PLZ8_ANTG3            0.225557\n",
      "PLZ8_ANTG4            0.217660\n",
      "WEALTH                0.205413\n",
      "HH_EINKOMMEN_SCORE    0.203006\n",
      "ORTSGR_KLS9           0.196461\n",
      "Name: 0, dtype: float64\n",
      "------------------------------\n",
      "KBA05_GBZ           -0.215986\n",
      "KBA05_ANTG1         -0.217086\n",
      "FINANZ_MINIMALIST   -0.221849\n",
      "PLZ8_ANTG1          -0.225517\n",
      "MOBI_REGIO          -0.229281\n",
      "Name: 0, dtype: float64\n",
      "******************************\n",
      "Component 2\n",
      "------------------------------\n",
      "ALTERSKATEGORIE_GROB    0.257225\n",
      "SEMIO_ERL               0.230254\n",
      "FINANZ_VORSORGER        0.229772\n",
      "SEMIO_LUST              0.180010\n",
      "RETOURTYP_BK_S          0.163492\n",
      "Name: 1, dtype: float64\n",
      "------------------------------\n",
      "SEMIO_PFLICHT   -0.227566\n",
      "SEMIO_TRADV     -0.228973\n",
      "FINANZ_SPARER   -0.232636\n",
      "DECADE          -0.239610\n",
      "SEMIO_REL       -0.255052\n",
      "Name: 1, dtype: float64\n",
      "******************************\n",
      "Component 3\n",
      "------------------------------\n",
      "SEMIO_VERT           0.345985\n",
      "SEMIO_SOZ            0.262894\n",
      "SEMIO_FAM            0.249238\n",
      "SEMIO_KULT           0.232931\n",
      "FINANZ_MINIMALIST    0.155418\n",
      "Name: 2, dtype: float64\n",
      "------------------------------\n",
      "SEMIO_RAT    -0.217379\n",
      "SEMIO_KRIT   -0.273428\n",
      "SEMIO_DOM    -0.313134\n",
      "SEMIO_KAEM   -0.335979\n",
      "ANREDE_KZ    -0.367987\n",
      "Name: 2, dtype: float64\n",
      "******************************\n"
     ]
    }
   ],
   "source": [
    "def show_most_interesting(component, index):\n",
    "    print(\"Component\", index)\n",
    "    print('-' * 30)\n",
    "    print(component.head())\n",
    "    print('-' * 30)\n",
    "    print(component.tail())\n",
    "    print('*' * 30)\n",
    "\n",
    "show_most_interesting(pca_0, 1)\n",
    "show_most_interesting(pca_1, 2)\n",
    "show_most_interesting(pca_2, 3)"
   ]
  },
  {
   "cell_type": "markdown",
   "metadata": {},
   "source": [
    "### Discussion 2.3: Interpret Principal Components\n",
    "\n",
    "1. I have picked 5 highest weights positive and negative to interpret the first 3 principal components.\n",
    "\n",
    "\n",
    "2. For component 1 the most positive correlated feature are: PLZ8_ANTG3, PLZ8_ANTG4, WEALTH, HH_EINKOMMEN_SCORE, ORTSGR_KLS9 and the most negative correlated feature are: KBA05_GBZ, KBA05_ANTG1, FINANZ_MINIMALIST, PLZ8_ANTG1, MOBI_REGIO.\n",
    "\n",
    "3. For component 2 the most positive correlated feature are:  ALTERSKATEGORIE_GROB, SEMIO_ERL, FINANZ_VORSORGER, SEMIO_LUST, RETOURTYP_BK_S. The most negative correlated feature are: SEMIO_PFLICHT, SEMIO_TRADV, FINANZ_SPARER, DECADE, SEMIO_REL.\n",
    "\n",
    "4. For component 3 the most positive correlated feature are:  SEMIO_VERT, SEMIO_SOZ, SEMIO_FAM, SEMIO_KULT, FINANZ_MINIMALIST. The most negative correlated feature are: SEMIO_RAT, EMIO_KRIT, SEMIO_DOM, SEMIO_KAEM, ANREDE_KZ.\n",
    "\n",
    "5. We can see in the Heat map of the first tree principal components that is below, that in general it shows a mix sign, but the tendency is to assign a positive correlation. Red is over 0.5 white or clear color are between 0, 0.49 and deep dark blue negative correlation.\n",
    "\n",
    "6. In summary I can say that the first 20 features are highly correlated, this mean that if one of them increase the other will increase in the same direction. This 20 componentes are responsable for the 80% of the variance."
   ]
  },
  {
   "cell_type": "code",
   "execution_count": 61,
   "metadata": {},
   "outputs": [
    {
     "data": {
      "text/plain": [
       "Text(0,0.5,'Principal components')"
      ]
     },
     "execution_count": 61,
     "metadata": {},
     "output_type": "execute_result"
    },
    {
     "data": {
      "image/png": "[encoded data removed]",
      "text/plain": [
       "<matplotlib.figure.Figure at 0x7fdd39f3a2e8>"
      ]
     },
     "metadata": {
      "needs_background": "light"
     },
     "output_type": "display_data"
    }
   ],
   "source": [
    "plt.matshow(pca_20.components_, cmap='seismic')\n",
    "plt.yticks([0, 1, 2], [\"First component\", \"Second component\", \"Third component\" ])\n",
    "plt.colorbar()\n",
    "plt.xticks(range(len(headings_list)),\n",
    " headings_list, rotation=60, ha='left')\n",
    "plt.xlabel(\"Feature\")\n",
    "plt.ylabel(\"Principal components\")"
   ]
  },
  {
   "cell_type": "markdown",
   "metadata": {},
   "source": [
    "## Step 3: Clustering\n",
    "\n",
    "### Step 3.1: Apply Clustering to General Population\n",
    "\n",
    "You've assessed and cleaned the demographics data, then scaled and transformed them. Now, it's time to see how the data clusters in the principal components space. In this substep, you will apply k-means clustering to the dataset and use the average within-cluster distances from each point to their assigned cluster's centroid to decide on a number of clusters to keep.\n",
    "\n",
    "- Use sklearn's [KMeans](http://scikit-learn.org/stable/modules/generated/sklearn.cluster.KMeans.html#sklearn.cluster.KMeans) class to perform k-means clustering on the PCA-transformed data.\n",
    "- Then, compute the average difference from each point to its assigned cluster's center. **Hint**: The KMeans object's `.score()` method might be useful here, but note that in sklearn, scores tend to be defined so that larger is better. Try applying it to a small, toy dataset, or use an internet search to help your understanding.\n",
    "- Perform the above two steps for a number of different cluster counts. You can then see how the average distance decreases with an increasing number of clusters. However, each additional cluster provides a smaller net benefit. Use this fact to select a final number of clusters in which to group the data. **Warning**: because of the large size of the dataset, it can take a long time for the algorithm to resolve. The more clusters to fit, the longer the algorithm will take. You should test for cluster counts through at least 10 clusters to get the full picture, but you shouldn't need to test for a number of clusters above about 30.\n",
    "- Once you've selected a final number of clusters to use, re-fit a KMeans instance to perform the clustering operation. Make sure that you also obtain the cluster assignments for the general demographics data, since you'll be using them in the final Step 3.3."
   ]
  },
  {
   "cell_type": "code",
   "execution_count": 62,
   "metadata": {},
   "outputs": [],
   "source": [
    "dataset = azdias_scaled_pca_20"
   ]
  },
  {
   "cell_type": "code",
   "execution_count": 63,
   "metadata": {},
   "outputs": [],
   "source": [
    "# Over a number of different cluster counts...\n",
    "from sklearn.cluster import MiniBatchKMeans\n",
    "\n",
    "def get_kmeans_score(data, center):\n",
    "    kmeans = MiniBatchKMeans(n_clusters=center,\n",
    "                             random_state=0,\n",
    "                             batch_size=100)\n",
    "    model = kmeans.fit(data)\n",
    "    score = np.abs(model.score(data))\n",
    "    return score\n",
    "\n",
    "    # run k-means clustering on the data and...\n",
    "scores = []\n",
    "centers = list(range(1,15))\n",
    "\n",
    "for center in centers:\n",
    "    scores.append(get_kmeans_score(dataset, center))  "
   ]
  },
  {
   "cell_type": "code",
   "execution_count": 64,
   "metadata": {},
   "outputs": [
    {
     "data": {
      "text/plain": [
       "clusters\n",
       "1     38833855.0\n",
       "2     32863359.0\n",
       "3     29964053.0\n",
       "4     27478354.0\n",
       "5     26404574.0\n",
       "6     25333571.0\n",
       "7     24841435.0\n",
       "8     23671394.0\n",
       "9     22939913.0\n",
       "10    22357304.0\n",
       "11    22308588.0\n",
       "12    21737842.0\n",
       "13    21354071.0\n",
       "14    21055766.0\n",
       "Name: average_distance, dtype: float64"
      ]
     },
     "execution_count": 64,
     "metadata": {},
     "output_type": "execute_result"
    }
   ],
   "source": [
    "score_ds = pd.Series(scores)\n",
    "centroids_ds = pd.Series(centers)\n",
    "score_df = pd.concat([centroids_ds,score_ds],axis=1)\n",
    "score_df.columns = ['clusters','average_distance']\n",
    "score_df.set_index('clusters',inplace=True)\n",
    "score_df['average_distance'] = score_df['average_distance'].round(0)\n",
    "score_df['average_distance']"
   ]
  },
  {
   "cell_type": "code",
   "execution_count": 65,
   "metadata": {},
   "outputs": [
    {
     "data": {
      "image/png": "[encoded data removed]",
      "text/plain": [
       "<matplotlib.figure.Figure at 0x7fdd326e0ba8>"
      ]
     },
     "metadata": {
      "needs_background": "light"
     },
     "output_type": "display_data"
    }
   ],
   "source": [
    "# Investigate the change in within-cluster distance across number of clusters.\n",
    "# HINT: Use matplotlib's plot function to visualize this relationship.\n",
    "\n",
    "plt.plot(centers, scores, linestyle='--', marker='o', color='b');\n",
    "plt.xlabel('K');\n",
    "plt.ylabel('SSE');\n",
    "plt.title('SSE vs. K');"
   ]
  },
  {
   "cell_type": "code",
   "execution_count": 66,
   "metadata": {},
   "outputs": [],
   "source": [
    "# Re-fit the k-means model with the selected number of clusters and obtain\n",
    "# cluster predictions for the general population demographics data.\n",
    "\n",
    "kmeans = KMeans(n_clusters = 9)\n",
    "model_9 = kmeans.fit(dataset)\n",
    "azdias_pred = model_9.predict(dataset)\n"
   ]
  },
  {
   "cell_type": "markdown",
   "metadata": {},
   "source": [
    "### Discussion 3.1: Apply Clustering to General Population\n",
    "\n",
    "With this part, I calculated the difference between each score, and I realized that the elbow is on k=9."
   ]
  },
  {
   "cell_type": "markdown",
   "metadata": {},
   "source": [
    "### Step 3.2: Apply All Steps to the Customer Data\n",
    "\n",
    "Now that you have clusters and cluster centers for the general population, it's time to see how the customer data maps on to those clusters. Take care to not confuse this for re-fitting all of the models to the customer data. Instead, you're going to use the fits from the general population to clean, transform, and cluster the customer data. In the last step of the project, you will interpret how the general population fits apply to the customer data.\n",
    "\n",
    "- Don't forget when loading in the customers data, that it is semicolon (`;`) delimited.\n",
    "- Apply the same feature wrangling, selection, and engineering steps to the customer demographics using the `clean_data()` function you created earlier. (You can assume that the customer demographics data has similar meaning behind missing data patterns as the general demographics data.)\n",
    "- Use the sklearn objects from the general demographics data, and apply their transformations to the customers data. That is, you should not be using a `.fit()` or `.fit_transform()` method to re-fit the old objects, nor should you be creating new sklearn objects! Carry the data through the feature scaling, PCA, and clustering steps, obtaining cluster assignments for all of the data in the customer demographics data."
   ]
  },
  {
   "cell_type": "code",
   "execution_count": 67,
   "metadata": {},
   "outputs": [],
   "source": [
    "# Load in the customer demographics data.\n",
    "customers = pd.read_csv('Udacity_CUSTOMERS_Subset.csv', sep=';')"
   ]
  },
  {
   "cell_type": "code",
   "execution_count": 68,
   "metadata": {},
   "outputs": [],
   "source": [
    "# Apply preprocessing, feature transformation, and clustering from the general\n",
    "# demographics onto the customer data, obtaining cluster predictions for the\n",
    "# customer demographics data.\n",
    "customers_cleansed=cleanse_data(customers)"
   ]
  },
  {
   "cell_type": "code",
   "execution_count": 69,
   "metadata": {},
   "outputs": [],
   "source": [
    "customers_total_row=len(customers)"
   ]
  },
  {
   "cell_type": "code",
   "execution_count": 70,
   "metadata": {},
   "outputs": [],
   "source": [
    "# Replace NaN\n",
    "cleansed_imputed_customer = pd.DataFrame(fill_missing.transform(customers_cleansed))\n",
    "headings_list = list(customers_cleansed.columns)"
   ]
  },
  {
   "cell_type": "code",
   "execution_count": 71,
   "metadata": {},
   "outputs": [
    {
     "data": {
      "text/plain": [
       "0"
      ]
     },
     "execution_count": 71,
     "metadata": {},
     "output_type": "execute_result"
    }
   ],
   "source": [
    "# Check NaN\n",
    "cleansed_imputed_customer.isnull().sum().sum()"
   ]
  },
  {
   "cell_type": "code",
   "execution_count": 72,
   "metadata": {},
   "outputs": [],
   "source": [
    "# Apply feature scaling to the general population demographics data.\n",
    "customer_cleansed_scaled = scaler.transform(cleansed_imputed_customer)"
   ]
  },
  {
   "cell_type": "code",
   "execution_count": 73,
   "metadata": {},
   "outputs": [],
   "source": [
    "customer_scaled_pca_20 = pca_20.transform(customer_cleansed_scaled)"
   ]
  },
  {
   "cell_type": "code",
   "execution_count": 74,
   "metadata": {},
   "outputs": [],
   "source": [
    "# Predict using model_9 (Kmeans)\n",
    "customers_pred = model_9.predict(customer_scaled_pca_20)"
   ]
  },
  {
   "cell_type": "markdown",
   "metadata": {},
   "source": [
    "### Step 3.3: Compare Customer Data to Demographics Data\n",
    "\n",
    "At this point, you have clustered data based on demographics of the general population of Germany, and seen how the customer data for a mail-order sales company maps onto those demographic clusters. In this final substep, you will compare the two cluster distributions to see where the strongest customer base for the company is.\n",
    "\n",
    "Consider the proportion of persons in each cluster for the general population, and the proportions for the customers. If we think the company's customer base to be universal, then the cluster assignment proportions should be fairly similar between the two. If there are only particular segments of the population that are interested in the company's products, then we should see a mismatch from one to the other. If there is a higher proportion of persons in a cluster for the customer data compared to the general population (e.g. 5% of persons are assigned to a cluster for the general population, but 15% of the customer data is closest to that cluster's centroid) then that suggests the people in that cluster to be a target audience for the company. On the other hand, the proportion of the data in a cluster being larger in the general population than the customer data (e.g. only 2% of customers closest to a population centroid that captures 6% of the data) suggests that group of persons to be outside of the target demographics.\n",
    "\n",
    "Take a look at the following points in this step:\n",
    "\n",
    "- Compute the proportion of data points in each cluster for the general population and the customer data. Visualizations will be useful here: both for the individual dataset proportions, but also to visualize the ratios in cluster representation between groups. Seaborn's [`countplot()`](https://seaborn.pydata.org/generated/seaborn.countplot.html) or [`barplot()`](https://seaborn.pydata.org/generated/seaborn.barplot.html) function could be handy.\n",
    "  - Recall the analysis you performed in step 1.1.3 of the project, where you separated out certain data points from the dataset if they had more than a specified threshold of missing values. If you found that this group was qualitatively different from the main bulk of the data, you should treat this as an additional data cluster in this analysis. Make sure that you account for the number of data points in this subset, for both the general population and customer datasets, when making your computations!\n",
    "- Which cluster or clusters are overrepresented in the customer dataset compared to the general population? Select at least one such cluster and infer what kind of people might be represented by that cluster. Use the principal component interpretations from step 2.3 or look at additional components to help you make this inference. Alternatively, you can use the `.inverse_transform()` method of the PCA and StandardScaler objects to transform centroids back to the original data space and interpret the retrieved values directly.\n",
    "def - Perform a similar investigation for the underrepresented clusters. Which cluster or clusters are underrepresented in the customer dataset compared to the general population, and what kinds of people are typified by these clusters?"
   ]
  },
  {
   "cell_type": "code",
   "execution_count": 75,
   "metadata": {},
   "outputs": [
    {
     "data": {
      "text/plain": [
       "135918"
      ]
     },
     "execution_count": 75,
     "metadata": {},
     "output_type": "execute_result"
    }
   ],
   "source": [
    "less_than_10 = customers[customers.isnull().sum(axis=1) < 10]\n",
    "len(less_than_10)"
   ]
  },
  {
   "cell_type": "code",
   "execution_count": 76,
   "metadata": {},
   "outputs": [
    {
     "data": {
      "text/plain": [
       "55734"
      ]
     },
     "execution_count": 76,
     "metadata": {},
     "output_type": "execute_result"
    }
   ],
   "source": [
    "customer_delete_row =customers_total_row-len(less_than_10)\n",
    "customer_delete_row"
   ]
  },
  {
   "cell_type": "code",
   "execution_count": 77,
   "metadata": {},
   "outputs": [],
   "source": [
    "def number_ele_cluster(df):\n",
    "    df_clusters = pd.Series(df)\n",
    "    dfc=df_clusters.value_counts().sort_index()\n",
    "    dfc=pd.Series(dfc)\n",
    "    return dfc\n"
   ]
  },
  {
   "cell_type": "code",
   "execution_count": 78,
   "metadata": {},
   "outputs": [
    {
     "data": {
      "text/html": [
       "<div>\n",
       "<style scoped>\n",
       "    .dataframe tbody tr th:only-of-type {\n",
       "        vertical-align: middle;\n",
       "    }\n",
       "\n",
       "    .dataframe tbody tr th {\n",
       "        vertical-align: top;\n",
       "    }\n",
       "\n",
       "    .dataframe thead th {\n",
       "        text-align: right;\n",
       "    }\n",
       "</style>\n",
       "<table border=\"1\" class=\"dataframe\">\n",
       "  <thead>\n",
       "    <tr style=\"text-align: right;\">\n",
       "      <th></th>\n",
       "      <th>cluster</th>\n",
       "      <th>population</th>\n",
       "      <th>customer</th>\n",
       "      <th>pop_%</th>\n",
       "      <th>cust_%</th>\n",
       "      <th>diff</th>\n",
       "    </tr>\n",
       "  </thead>\n",
       "  <tbody>\n",
       "    <tr>\n",
       "      <th>-1</th>\n",
       "      <td>Delete Row</td>\n",
       "      <td>116478</td>\n",
       "      <td>55734</td>\n",
       "      <td>13.07</td>\n",
       "      <td>29.04</td>\n",
       "      <td>15.97</td>\n",
       "    </tr>\n",
       "    <tr>\n",
       "      <th>0</th>\n",
       "      <td>0</td>\n",
       "      <td>88673</td>\n",
       "      <td>2538</td>\n",
       "      <td>9.95</td>\n",
       "      <td>1.32</td>\n",
       "      <td>-8.63</td>\n",
       "    </tr>\n",
       "    <tr>\n",
       "      <th>1</th>\n",
       "      <td>1</td>\n",
       "      <td>61436</td>\n",
       "      <td>2515</td>\n",
       "      <td>6.89</td>\n",
       "      <td>1.31</td>\n",
       "      <td>-5.58</td>\n",
       "    </tr>\n",
       "    <tr>\n",
       "      <th>2</th>\n",
       "      <td>2</td>\n",
       "      <td>106284</td>\n",
       "      <td>14490</td>\n",
       "      <td>11.93</td>\n",
       "      <td>7.55</td>\n",
       "      <td>-4.38</td>\n",
       "    </tr>\n",
       "    <tr>\n",
       "      <th>3</th>\n",
       "      <td>3</td>\n",
       "      <td>59282</td>\n",
       "      <td>46472</td>\n",
       "      <td>6.65</td>\n",
       "      <td>24.22</td>\n",
       "      <td>17.57</td>\n",
       "    </tr>\n",
       "    <tr>\n",
       "      <th>4</th>\n",
       "      <td>4</td>\n",
       "      <td>125126</td>\n",
       "      <td>26091</td>\n",
       "      <td>14.04</td>\n",
       "      <td>13.60</td>\n",
       "      <td>-0.44</td>\n",
       "    </tr>\n",
       "    <tr>\n",
       "      <th>5</th>\n",
       "      <td>5</td>\n",
       "      <td>94496</td>\n",
       "      <td>14856</td>\n",
       "      <td>10.60</td>\n",
       "      <td>7.74</td>\n",
       "      <td>-2.86</td>\n",
       "    </tr>\n",
       "    <tr>\n",
       "      <th>6</th>\n",
       "      <td>6</td>\n",
       "      <td>68062</td>\n",
       "      <td>1360</td>\n",
       "      <td>7.64</td>\n",
       "      <td>0.71</td>\n",
       "      <td>-6.93</td>\n",
       "    </tr>\n",
       "    <tr>\n",
       "      <th>7</th>\n",
       "      <td>7</td>\n",
       "      <td>88187</td>\n",
       "      <td>26394</td>\n",
       "      <td>9.90</td>\n",
       "      <td>13.75</td>\n",
       "      <td>3.85</td>\n",
       "    </tr>\n",
       "    <tr>\n",
       "      <th>8</th>\n",
       "      <td>8</td>\n",
       "      <td>83197</td>\n",
       "      <td>1443</td>\n",
       "      <td>9.34</td>\n",
       "      <td>0.75</td>\n",
       "      <td>-8.59</td>\n",
       "    </tr>\n",
       "  </tbody>\n",
       "</table>\n",
       "</div>"
      ],
      "text/plain": [
       "       cluster  population  customer  pop_%  cust_%   diff\n",
       "-1  Delete Row      116478     55734  13.07   29.04  15.97\n",
       " 0           0       88673      2538   9.95    1.32  -8.63\n",
       " 1           1       61436      2515   6.89    1.31  -5.58\n",
       " 2           2      106284     14490  11.93    7.55  -4.38\n",
       " 3           3       59282     46472   6.65   24.22  17.57\n",
       " 4           4      125126     26091  14.04   13.60  -0.44\n",
       " 5           5       94496     14856  10.60    7.74  -2.86\n",
       " 6           6       68062      1360   7.64    0.71  -6.93\n",
       " 7           7       88187     26394   9.90   13.75   3.85\n",
       " 8           8       83197      1443   9.34    0.75  -8.59"
      ]
     },
     "execution_count": 78,
     "metadata": {},
     "output_type": "execute_result"
    }
   ],
   "source": [
    "# Add ratio differences for each cluster to the dataframe\n",
    "prop = pd.concat([number_ele_cluster(azdias_pred), number_ele_cluster(customers_pred)], axis=1).reset_index()\n",
    "prop.columns = ['cluster','population','customer']\n",
    "\n",
    "# Add missing data rows as an extra cluster\n",
    "prop.loc[-1] = ['Delete Row', azdias_row_deleted, customer_delete_row]  # adding a row\n",
    "prop.sort_index(inplace=True)\n",
    "\n",
    "prop['pop_%'] = (prop['population']/(prop['population'].sum())*100).round(2)\n",
    "prop['cust_%'] = (prop['customer']/(prop['customer'].sum())*100).round(2)\n",
    "prop['diff'] = prop['cust_%'] - prop['pop_%']\n",
    "prop"
   ]
  },
  {
   "cell_type": "code",
   "execution_count": 79,
   "metadata": {},
   "outputs": [
    {
     "data": {
      "image/png": "[encoded data removed]",
      "text/plain": [
       "<matplotlib.figure.Figure at 0x7fdd327aba90>"
      ]
     },
     "metadata": {
      "needs_background": "light"
     },
     "output_type": "display_data"
    }
   ],
   "source": [
    "# Compare the proportion of data in each cluster for the customer data to the\n",
    "# proportion of data in each cluster for the general population.\n",
    "\n",
    "fig = plt.figure(figsize=(16,6))\n",
    "\n",
    "ax1 = fig.add_subplot(1,2,1)\n",
    "ax1 = sns.barplot(x=prop['cluster'],y=prop['population'],color='teal',edgecolor='.9',data=prop)\n",
    "plt.title(\"Distribution of General Population in Clusters\")\n",
    "\n",
    "ax2 = fig.add_subplot(1,2,2)\n",
    "ax2 = sns.barplot(x=prop['cluster'],y=prop['customer'],color='gray',edgecolor='.9',data=prop)\n",
    "plt.title(\"Distribution of Customers in Clusters\")\n",
    "plt.suptitle(\"Plot 3.3.1\", fontsize=15);\n",
    "ax1.grid()\n",
    "ax2.grid()"
   ]
  },
  {
   "cell_type": "code",
   "execution_count": 80,
   "metadata": {},
   "outputs": [
    {
     "data": {
      "image/png": "[encoded data removed]",
      "text/plain": [
       "<matplotlib.figure.Figure at 0x7fdd32820518>"
      ]
     },
     "metadata": {
      "needs_background": "light"
     },
     "output_type": "display_data"
    }
   ],
   "source": [
    "# Ratios in cluster representation between groups\n",
    "fig = plt.figure(figsize=(16,6))\n",
    "ax = fig.add_subplot(111)\n",
    "\n",
    "ax = prop['pop_%'].plot(x=prop['cluster'], kind='bar',color='blue',width=-0.3, align='edge',position=0)\n",
    "ax = prop['cust_%'].plot(kind='bar',color='gray',width = 0.3, align='edge',position=1)\n",
    "\n",
    "ax.margins(x=0.5,y=0.1)\n",
    "ax.set_xlabel('Clusters', fontsize=13) \n",
    "ax.set_ylabel('Ratio %', fontsize=13)\n",
    "ax.tick_params(axis = 'x', which = 'major', labelsize = 11)\n",
    "plt.xticks(rotation=360)\n",
    "\n",
    "plt.legend(('General population %', 'Customers %'),fontsize=13)\n",
    "plt.title(('Comparison of Ratios in cluster representation between groups.')\n",
    "          ,fontsize=13)\n",
    "\n",
    "plt.subplots_adjust(bottom=0.2)\n",
    "plt.suptitle(\"Plot 3.3.2\", fontsize=15)\n",
    "plt.show()"
   ]
  },
  {
   "cell_type": "code",
   "execution_count": 96,
   "metadata": {},
   "outputs": [
    {
     "name": "stdout",
     "output_type": "stream",
     "text": [
      "2     2.636191\n",
      "3     2.369364\n",
      "4     0.248697\n",
      "17    0.130075\n",
      "10    0.086457\n",
      "18    0.073723\n",
      "8     0.072508\n",
      "13    0.068798\n",
      "11    0.042741\n",
      "12    0.026851\n",
      "7     0.002921\n",
      "6    -0.005459\n",
      "16   -0.017618\n",
      "5    -0.028154\n",
      "1    -0.160274\n",
      "9    -0.223571\n",
      "19   -0.256792\n",
      "15   -0.283708\n",
      "14   -0.469398\n",
      "0    -3.285584\n",
      "dtype: float64\n"
     ]
    }
   ],
   "source": [
    "# What kinds of people are part of a cluster that is overrepresented in the\n",
    "# customer data compared to the general population?\n",
    "# PCA cluster 3 with over-representation in customer segment.\n",
    "orc_3 = pd.Series(model_9.cluster_centers_[3]).sort_values(ascending=False)\n",
    "print(orc_3)\n"
   ]
  },
  {
   "cell_type": "code",
   "execution_count": 97,
   "metadata": {},
   "outputs": [
    {
     "name": "stdout",
     "output_type": "stream",
     "text": [
      "ALTERSKATEGORIE_GROB        3.03\n",
      "ANREDE_KZ                   1.61\n",
      "FINANZ_MINIMALIST           2.37\n",
      "FINANZ_SPARER               2.31\n",
      "FINANZ_VORSORGER            3.93\n",
      "FINANZ_ANLEGER              2.52\n",
      "FINANZ_UNAUFFAELLIGER       1.70\n",
      "FINANZ_HAUSBAUER            4.57\n",
      "GREEN_AVANTGARDE            0.46\n",
      "HEALTH_TYP                  2.35\n",
      "RETOURTYP_BK_S              3.99\n",
      "SEMIO_SOZ                   3.76\n",
      "SEMIO_FAM                   3.96\n",
      "SEMIO_REL                   3.58\n",
      "SEMIO_MAT                   3.97\n",
      "SEMIO_VERT                  3.85\n",
      "SEMIO_LUST                  5.05\n",
      "SEMIO_ERL                   5.20\n",
      "SEMIO_KULT                  3.63\n",
      "SEMIO_RAT                   3.72\n",
      "SEMIO_KRIT                  5.00\n",
      "SEMIO_DOM                   4.80\n",
      "SEMIO_KAEM                  4.84\n",
      "SEMIO_PFLICHT               3.94\n",
      "SEMIO_TRADV                 3.25\n",
      "SOHO_KZ                    -0.01\n",
      "VERS_TYP                    1.78\n",
      "ANZ_PERSONEN                1.70\n",
      "ANZ_TITEL                  -0.09\n",
      "HH_EINKOMMEN_SCORE          5.49\n",
      "W_KEIT_KIND_HH              4.88\n",
      "WOHNDAUER_2008              8.51\n",
      "ANZ_HAUSHALTE_AKTIV        29.25\n",
      "ANZ_HH_TITEL                0.30\n",
      "KONSUMNAEHE                 1.65\n",
      "MIN_GEBAEUDEJAHR         1993.98\n",
      "OST_WEST_KZ                 0.52\n",
      "KBA05_ANTG1                -0.44\n",
      "KBA05_ANTG2                 2.87\n",
      "KBA05_ANTG3                 1.14\n",
      "KBA05_ANTG4                 0.42\n",
      "KBA05_GBZ                   2.07\n",
      "BALLRAUM                    2.84\n",
      "EWDICHTE                    4.99\n",
      "INNENSTADT                  3.34\n",
      "GEBAEUDETYP_RASTER          2.47\n",
      "KKK                         3.19\n",
      "MOBI_REGIO                  1.22\n",
      "ONLINE_AFFINITAET           1.94\n",
      "REGIOTYP                    5.81\n",
      "KBA13_ANZAHL_PKW          519.54\n",
      "PLZ8_ANTG1                  1.83\n",
      "PLZ8_ANTG2                  2.81\n",
      "PLZ8_ANTG3                  1.87\n",
      "PLZ8_ANTG4                  0.91\n",
      "PLZ8_HHZ                    3.61\n",
      "PLZ8_GBZ                    2.92\n",
      "ARBEIT                      3.98\n",
      "ORTSGR_KLS9                 7.20\n",
      "RELAT_AB                    3.54\n",
      "DECADE                      3.76\n",
      "MOVEMENT                    0.54\n",
      "WEALTH                      4.70\n",
      "LIFE_STAGE                  1.74\n",
      "dtype: float64\n"
     ]
    }
   ],
   "source": [
    "# Transform cluster 3 to original feature values.\n",
    "fv_orc_3 = scaler.inverse_transform(pca_20.inverse_transform(orc_3))\n",
    "fv_orc_3 = pd.Series(fv_orc_3).round(2)\n",
    "fv_orc_3.index = headings_list\n",
    "pd.set_option('display.max_rows', fv_orc_3.shape[0]+1)\n",
    "print(fv_orc_3)"
   ]
  },
  {
   "cell_type": "code",
   "execution_count": 98,
   "metadata": {},
   "outputs": [
    {
     "name": "stdout",
     "output_type": "stream",
     "text": [
      "First Principal Component\n",
      "Component 2\n",
      "------------------------------\n",
      "SEMIO_VERT           0.345985\n",
      "SEMIO_SOZ            0.262894\n",
      "SEMIO_FAM            0.249238\n",
      "SEMIO_KULT           0.232931\n",
      "FINANZ_MINIMALIST    0.155418\n",
      "Name: 2, dtype: float64\n",
      "------------------------------\n",
      "SEMIO_RAT    -0.217379\n",
      "SEMIO_KRIT   -0.273428\n",
      "SEMIO_DOM    -0.313134\n",
      "SEMIO_KAEM   -0.335979\n",
      "ANREDE_KZ    -0.367987\n",
      "Name: 2, dtype: float64\n",
      "******************************\n",
      "Second Principal component\n",
      "Component 1\n",
      "------------------------------\n",
      "ALTERSKATEGORIE_GROB    0.257225\n",
      "SEMIO_ERL               0.230254\n",
      "FINANZ_VORSORGER        0.229772\n",
      "SEMIO_LUST              0.180010\n",
      "RETOURTYP_BK_S          0.163492\n",
      "Name: 1, dtype: float64\n",
      "------------------------------\n",
      "SEMIO_PFLICHT   -0.227566\n",
      "SEMIO_TRADV     -0.228973\n",
      "FINANZ_SPARER   -0.232636\n",
      "DECADE          -0.239610\n",
      "SEMIO_REL       -0.255052\n",
      "Name: 1, dtype: float64\n",
      "******************************\n"
     ]
    }
   ],
   "source": [
    "# Analyze top principal component in cluster 5\n",
    "pca_2 = pca_weights(pca_20, 2)\n",
    "print('First Principal Component')\n",
    "pca_1 = pca_weights(pca_20, 1)\n",
    "show_most_interesting(pca_2, 2)\n",
    "print('Second Principal component')\n",
    "show_most_interesting(pca_1, 1)"
   ]
  },
  {
   "cell_type": "code",
   "execution_count": 99,
   "metadata": {},
   "outputs": [
    {
     "name": "stdout",
     "output_type": "stream",
     "text": [
      "8     0.347676\n",
      "5     0.068948\n",
      "11    0.064157\n",
      "9     0.056943\n",
      "14    0.054491\n",
      "3     0.046524\n",
      "12    0.005233\n",
      "16   -0.001615\n",
      "19   -0.015007\n",
      "15   -0.015770\n",
      "13   -0.018457\n",
      "10   -0.033722\n",
      "18   -0.086488\n",
      "7    -0.136744\n",
      "4    -0.141460\n",
      "17   -0.145010\n",
      "6    -0.348327\n",
      "0    -0.731308\n",
      "1    -2.883193\n",
      "2    -3.111899\n",
      "dtype: float64\n"
     ]
    }
   ],
   "source": [
    "# What kinds of people are part of a cluster that is underrepresented in the\n",
    "# customer data compared to the general population?\n",
    "# PCA cluster 0 with underrepresented in customer segment.\n",
    "orc_0 = pd.Series(model_9.cluster_centers_[0]).sort_values(ascending=False)\n",
    "print(orc_0)\n"
   ]
  },
  {
   "cell_type": "code",
   "execution_count": 100,
   "metadata": {},
   "outputs": [
    {
     "name": "stdout",
     "output_type": "stream",
     "text": [
      "ALTERSKATEGORIE_GROB        2.75\n",
      "ANREDE_KZ                   1.52\n",
      "FINANZ_MINIMALIST           2.85\n",
      "FINANZ_SPARER               2.78\n",
      "FINANZ_VORSORGER            3.32\n",
      "FINANZ_ANLEGER              3.15\n",
      "FINANZ_UNAUFFAELLIGER       2.66\n",
      "FINANZ_HAUSBAUER            3.37\n",
      "GREEN_AVANTGARDE            0.47\n",
      "HEALTH_TYP                  2.36\n",
      "RETOURTYP_BK_S              3.48\n",
      "SEMIO_SOZ                   3.87\n",
      "SEMIO_FAM                   4.43\n",
      "SEMIO_REL                   4.26\n",
      "SEMIO_MAT                   4.58\n",
      "SEMIO_VERT                  4.34\n",
      "SEMIO_LUST                  5.20\n",
      "SEMIO_ERL                   4.74\n",
      "SEMIO_KULT                  4.20\n",
      "SEMIO_RAT                   4.02\n",
      "SEMIO_KRIT                  4.79\n",
      "SEMIO_DOM                   4.44\n",
      "SEMIO_KAEM                  4.28\n",
      "SEMIO_PFLICHT               4.49\n",
      "SEMIO_TRADV                 3.80\n",
      "SOHO_KZ                    -0.02\n",
      "VERS_TYP                    1.81\n",
      "ANZ_PERSONEN                2.05\n",
      "ANZ_TITEL                  -0.16\n",
      "HH_EINKOMMEN_SCORE          4.35\n",
      "W_KEIT_KIND_HH              4.51\n",
      "WOHNDAUER_2008              9.65\n",
      "ANZ_HAUSHALTE_AKTIV        27.19\n",
      "ANZ_HH_TITEL                0.40\n",
      "KONSUMNAEHE                 2.21\n",
      "MIN_GEBAEUDEJAHR         1995.46\n",
      "OST_WEST_KZ                 0.36\n",
      "KBA05_ANTG1                 0.55\n",
      "KBA05_ANTG2                 3.18\n",
      "KBA05_ANTG3                 0.31\n",
      "KBA05_ANTG4                 0.09\n",
      "KBA05_GBZ                   3.07\n",
      "BALLRAUM                    4.45\n",
      "EWDICHTE                    3.77\n",
      "INNENSTADT                  5.00\n",
      "GEBAEUDETYP_RASTER          2.74\n",
      "KKK                         3.15\n",
      "MOBI_REGIO                  2.29\n",
      "ONLINE_AFFINITAET           2.31\n",
      "REGIOTYP                    5.82\n",
      "KBA13_ANZAHL_PKW          593.20\n",
      "PLZ8_ANTG1                  2.22\n",
      "PLZ8_ANTG2                  3.00\n",
      "PLZ8_ANTG3                  1.46\n",
      "PLZ8_ANTG4                  0.46\n",
      "PLZ8_HHZ                    3.43\n",
      "PLZ8_GBZ                    3.35\n",
      "ARBEIT                      3.46\n",
      "ORTSGR_KLS9                 5.29\n",
      "RELAT_AB                    3.21\n",
      "DECADE                      4.40\n",
      "MOVEMENT                    0.53\n",
      "WEALTH                      3.03\n",
      "LIFE_STAGE                  4.31\n",
      "dtype: float64\n"
     ]
    }
   ],
   "source": [
    "# Transform cluster 2 to original feature values.\n",
    "fv_orc_0 = scaler.inverse_transform(pca_20.inverse_transform(orc_0))\n",
    "fv_orc_0 = pd.Series(fv_orc_0).round(2)\n",
    "fv_orc_0.index = headings_list\n",
    "pd.set_option('display.max_rows', fv_orc_0.shape[0]+1)\n",
    "print(fv_orc_0)"
   ]
  },
  {
   "cell_type": "code",
   "execution_count": 101,
   "metadata": {},
   "outputs": [
    {
     "name": "stdout",
     "output_type": "stream",
     "text": [
      "First Principal Component\n",
      "Component 8\n",
      "------------------------------\n",
      "SEMIO_MAT      0.307601\n",
      "SEMIO_RAT      0.270800\n",
      "SEMIO_TRADV    0.246010\n",
      "REGIOTYP       0.220401\n",
      "KKK            0.179966\n",
      "Name: 8, dtype: float64\n",
      "------------------------------\n",
      "FINANZ_UNAUFFAELLIGER   -0.165631\n",
      "FINANZ_SPARER           -0.193428\n",
      "DECADE                  -0.195476\n",
      "HEALTH_TYP              -0.288891\n",
      "VERS_TYP                -0.395651\n",
      "Name: 8, dtype: float64\n",
      "******************************\n",
      "Second Principal Component\n",
      "Component 5\n",
      "------------------------------\n",
      "KBA05_ANTG4            0.434179\n",
      "ANZ_HAUSHALTE_AKTIV    0.382575\n",
      "ANZ_HH_TITEL           0.258908\n",
      "OST_WEST_KZ            0.114927\n",
      "MIN_GEBAEUDEJAHR       0.111651\n",
      "Name: 5, dtype: float64\n",
      "------------------------------\n",
      "GEBAEUDETYP_RASTER   -0.178643\n",
      "RELAT_AB             -0.206573\n",
      "KBA05_ANTG3          -0.212798\n",
      "PLZ8_ANTG2           -0.272828\n",
      "KBA05_ANTG2          -0.417065\n",
      "Name: 5, dtype: float64\n",
      "******************************\n"
     ]
    }
   ],
   "source": [
    "# Analyze top principal component in cluster 0\n",
    "print('First Principal Component')\n",
    "pca_8 = pca_weights(pca_20, 8)\n",
    "show_most_interesting(pca_8, 8)\n",
    "pca_5 = pca_weights(pca_20, 5)\n",
    "print('Second Principal Component')\n",
    "show_most_interesting(pca_5, 5)"
   ]
  },
  {
   "cell_type": "markdown",
   "metadata": {},
   "source": [
    "### Discussion 3.3: Compare Customer Data to Demographics Data\n",
    "\n",
    "1. Distribution of the cluster:\n",
    "From plot 3.3.1, We can evidence there are a differences between distributions General population and the customer database. Comparing the ratios of each cluster on the Customer group against General Population, we can detected that the customer dataset is over-represented in clusters 3 over 5 percent gap, and under-represented in clusters 0, 8, 6 under 5% difference level.\n",
    "\n",
    "2. Missing Data:\n",
    "Because missing data is qualitatively different we kept for the analysis and added as a additional cluster. Deleted row could be an issue, 13.07% of the total dataset was deleted from the General Population, but on the Customers dataset represent 29% which is the largest cluster of the Customer Dataset. We would recomend to dig deep on this data, and increase the threshold to allow more missing data at least at the same ratio of General Population. \n",
    "\n",
    "3. Analisis of the over-represented clusters\n",
    "Cluster 3 is the highest over-represented for the mail order company. People in this cluster showed high correlated features between principal and second component.\n",
    "\n",
    "Profile:Females, high dreamful, high social minded, educated wity a highly financial tipology and average prepared financialy. This people buy with low return ratio, probably likes to buy books, arts, have an active social live, send and receive letters and like to look sensual, so probably spend money in dresses, make-ups.This cluster could be a big potencial customer-segment group for the mail order company. \n",
    "\n",
    "#### Principal component: 2\n",
    "##### Positive Correlated\n",
    "- dreamful:high affinity\n",
    "- High: socially-minded\n",
    "- High: family-minded\n",
    "- High: cultural-minded\n",
    "- high: Financial typology\n",
    "\n",
    "##### Negative Correlated\n",
    "- High rational\n",
    "- Average critical-minded\n",
    "- Average dominant-minded\n",
    "- Average combative attitude\n",
    "- Females\n",
    "\n",
    "#### Second component: 1\n",
    "##### Positive Correlated\n",
    "- 46 - 60 years old\n",
    "- Low:event-oriented\n",
    "- Average:be prepared financialy\n",
    "- Low:sensual-minded\n",
    "- Return type: conservative Low-Returner\n",
    "\n",
    "##### Negative Correlated\n",
    "- High: dutiful\n",
    "- High:tradional-minded\n",
    "- High: money-saver\n",
    "- 50s\n",
    "- High:religious\n",
    "\n",
    "4. Analisis of the under-represented clusters\n",
    "Cluster 0 is the lowest under-represented for the company. People in this cluster showed high correlated features between principal and second component\n",
    "Profile: They are low income earners that are living in small old apartments buildings that contain many apartments, people in this apartments are not professional academic title holders. And are older people. For sure the company will not be interested in this segment of customers.\n",
    "#### Principal component: 8\n",
    "##### Positive Correlated\n",
    "- Average:materialistic\n",
    "- Average:rational\n",
    "- High:tradional-minded\n",
    "- lower middle class Neighborhood\n",
    "- Average: Purchasing power in region\n",
    "\n",
    "##### Negative Correlated\n",
    "- High: inconspicuous\n",
    "- High: money-saver\n",
    "- 50s\n",
    "- Health:sanitary affine\n",
    "- individualistic-accepting risks\n",
    "\n",
    "#### Second component: 5\n",
    "##### Positive Correlated\n",
    "- no 10+ family homes\n",
    "- 27.19 households in the building\n",
    "- 0 professional academic title holders in building\n",
    "- West (FRG)\n",
    "- 1995 year building\n",
    "\n",
    "##### Negative Correlated:\n",
    "- mixed cell with high business share\n",
    "- average unemployment\n",
    "- no 6-10 family homes\n",
    "- high share of 3-5 family homes in the PLZ8 region\n",
    "- high share of 3-5 family homes in the microcell"
   ]
  },
  {
   "cell_type": "markdown",
   "metadata": {},
   "source": [
    "> Congratulations on making it this far in the project! Before you finish, make sure to check through the entire notebook from top to bottom to make sure that your analysis follows a logical flow and all of your findings are documented in **Discussion** cells. Once you've checked over all of your work, you should export the notebook as an HTML document to submit for evaluation. You can do this from the menu, navigating to **File -> Download as -> HTML (.html)**. You will submit both that document and this notebook for your project submission."
   ]
  }
 ],
 "metadata": {
  "kernelspec": {
   "display_name": "Python 3",
   "language": "python",
   "name": "python3"
  },
  "language_info": {
   "codemirror_mode": {
    "name": "ipython",
    "version": 3
   },
   "file_extension": ".py",
   "mimetype": "text/x-python",
   "name": "python",
   "nbconvert_exporter": "python",
   "pygments_lexer": "ipython3",
   "version": "3.6.3"
  }
 },
 "nbformat": 4,
 "nbformat_minor": 2
}
